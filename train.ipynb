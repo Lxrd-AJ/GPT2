{
 "cells": [
  {
   "cell_type": "code",
   "execution_count": 7,
   "metadata": {},
   "outputs": [],
   "source": [
    "import torch\n",
    "import tiktoken\n",
    "from torch.nn import functional as F"
   ]
  },
  {
   "cell_type": "code",
   "execution_count": 8,
   "metadata": {},
   "outputs": [
    {
     "name": "stdout",
     "output_type": "stream",
     "text": [
      "Using Compute Device: mps\n"
     ]
    }
   ],
   "source": [
    "computeDevice = torch.device(\"cpu\")\n",
    "if torch.cuda.is_available():\n",
    "    computeDevice = torch.device(\"cuda\")\n",
    "elif hasattr(torch.backends, \"mps\") and torch.backends.mps.is_available():\n",
    "    computeDevice = torch.device(\"mps\")\n",
    "    \n",
    "print(f\"Using Compute Device: {computeDevice}\")\n",
    "\n",
    "torch.set_float32_matmul_precision(\"high\")"
   ]
  },
  {
   "cell_type": "code",
   "execution_count": 9,
   "metadata": {},
   "outputs": [
    {
     "name": "stdout",
     "output_type": "stream",
     "text": [
      "1115394\n",
      "torch.Size([4, 32])\n",
      "torch.Size([4, 32])\n"
     ]
    }
   ],
   "source": [
    "enc = tiktoken.get_encoding('gpt2')\n",
    "with open('input.txt', 'r') as f:\n",
    "    text = f.read()\n",
    "\n",
    "print(len(text))\n",
    "trainText = text[:1000]\n",
    "tokens = enc.encode(trainText)\n",
    "\n",
    "B, T = 4, 32\n",
    "buf = torch.tensor(tokens[:B*T + 1], device=computeDevice)\n",
    "x = buf[:-1].view(B, T)\n",
    "y = buf[1:].view(B, T)\n",
    "\n",
    "print(x.shape)\n",
    "print(y.shape)"
   ]
  },
  {
   "cell_type": "code",
   "execution_count": 10,
   "metadata": {},
   "outputs": [
    {
     "data": {
      "text/plain": [
       "GPT(\n",
       "  (transformer): ModuleDict(\n",
       "    (wte): Embedding(50257, 768)\n",
       "    (wpe): Embedding(1024, 768)\n",
       "    (h): ModuleList(\n",
       "      (0-11): 12 x Block(\n",
       "        (ln_1): LayerNorm((768,), eps=1e-05, elementwise_affine=True)\n",
       "        (attn): CausalSelfAttention(\n",
       "          (c_attn): Linear(in_features=768, out_features=2304, bias=True)\n",
       "          (c_proj): Linear(in_features=768, out_features=768, bias=True)\n",
       "        )\n",
       "        (ln_2): LayerNorm((768,), eps=1e-05, elementwise_affine=True)\n",
       "        (mlp): MLP(\n",
       "          (c_fc): Linear(in_features=768, out_features=3072, bias=True)\n",
       "          (gelu): GELU(approximate='tanh')\n",
       "          (c_proj): Linear(in_features=3072, out_features=768, bias=True)\n",
       "        )\n",
       "      )\n",
       "    )\n",
       "    (ln_f): LayerNorm((768,), eps=1e-05, elementwise_affine=True)\n",
       "  )\n",
       "  (lm_head): Linear(in_features=768, out_features=50257, bias=False)\n",
       ")"
      ]
     },
     "execution_count": 10,
     "metadata": {},
     "output_type": "execute_result"
    }
   ],
   "source": [
    "from train_gpt2 import GPT, GPTConfig\n",
    "\n",
    "model = GPT(GPTConfig())\n",
    "model.to(computeDevice)"
   ]
  },
  {
   "cell_type": "code",
   "execution_count": 11,
   "metadata": {},
   "outputs": [
    {
     "name": "stdout",
     "output_type": "stream",
     "text": [
      "torch.Size([4, 32, 50257])\n",
      "tensor(10.9600, device='mps:0')\n"
     ]
    }
   ],
   "source": [
    "with torch.no_grad():\n",
    "    logits, loss = model(x,y)\n",
    "    print(logits.shape)\n",
    "    print(loss)"
   ]
  },
  {
   "cell_type": "code",
   "execution_count": 12,
   "metadata": {},
   "outputs": [
    {
     "name": "stdout",
     "output_type": "stream",
     "text": [
      "Loaded 338025 tokens\n",
      "1 epoch = 82 batches\n",
      "Step 0, loss: 10.940007209777832\n",
      "Step 1, loss: 9.519044876098633\n",
      "Step 2, loss: 8.98745346069336\n",
      "Step 3, loss: 8.692208290100098\n",
      "Step 4, loss: 8.378253936767578\n",
      "Step 5, loss: 8.013583183288574\n",
      "Step 6, loss: 7.910251617431641\n",
      "Step 7, loss: 7.703823089599609\n",
      "Step 8, loss: 7.626391410827637\n",
      "Step 9, loss: 7.3372802734375\n",
      "Step 10, loss: 7.353532791137695\n",
      "Step 11, loss: 7.347437858581543\n",
      "Step 12, loss: 7.404200077056885\n",
      "Step 13, loss: 7.298118591308594\n",
      "Step 14, loss: 6.905921936035156\n",
      "Step 15, loss: 6.921509742736816\n",
      "Step 16, loss: 6.722334861755371\n",
      "Step 17, loss: 6.561412811279297\n",
      "Step 18, loss: 6.675556659698486\n",
      "Step 19, loss: 6.682712554931641\n",
      "Step 20, loss: 6.868740081787109\n",
      "Step 21, loss: 6.718560218811035\n",
      "Step 22, loss: 6.658079147338867\n",
      "Step 23, loss: 6.746021270751953\n",
      "Step 24, loss: 6.7831902503967285\n",
      "Step 25, loss: 6.768692970275879\n",
      "Step 26, loss: 6.594897270202637\n",
      "Step 27, loss: 6.6491498947143555\n",
      "Step 28, loss: 6.661286354064941\n",
      "Step 29, loss: 6.507186412811279\n",
      "Step 30, loss: 6.419987678527832\n",
      "Step 31, loss: 6.3665571212768555\n",
      "Step 32, loss: 6.422982215881348\n",
      "Step 33, loss: 6.57451057434082\n",
      "Step 34, loss: 6.572477340698242\n",
      "Step 35, loss: 6.558613300323486\n",
      "Step 36, loss: 6.371974945068359\n",
      "Step 37, loss: 6.527240753173828\n",
      "Step 38, loss: 6.332934379577637\n",
      "Step 39, loss: 6.153057098388672\n",
      "Step 40, loss: 6.281126022338867\n",
      "Step 41, loss: 6.388339996337891\n",
      "Step 42, loss: 6.21699333190918\n",
      "Step 43, loss: 6.211783409118652\n",
      "Step 44, loss: 6.365067481994629\n",
      "Step 45, loss: 6.263631820678711\n",
      "Step 46, loss: 6.119399070739746\n",
      "Step 47, loss: 6.149810314178467\n",
      "Step 48, loss: 6.165945053100586\n",
      "Step 49, loss: 6.0671539306640625\n"
     ]
    }
   ],
   "source": [
    "from data_loader import DataLoaderLite\n",
    "\n",
    "torch.mps.empty_cache()\n",
    "torch.manual_seed(1337)\n",
    "\n",
    "# B, T = 16, 1024\n",
    "B, T = 8, 512\n",
    "# B, T = 4, 256\n",
    "dataset = DataLoaderLite(B, T)\n",
    "optimizer = torch.optim.AdamW(model.parameters(), lr=3e-4)\n",
    "losses = []\n",
    "for i in range(50):\n",
    "    optimizer.zero_grad()\n",
    "    x, y = dataset.next_batch()\n",
    "    x, y = x.to(computeDevice), y.to(computeDevice)\n",
    "    if torch.cuda.is_available():\n",
    "        with torch.autocast(device_type=computeDevice, dtype=torch.bfloat16):\n",
    "            logits, loss = model(x, y)\n",
    "    else:\n",
    "        logits, loss = model(x, y)\n",
    "    loss.backward()\n",
    "    optimizer.step()\n",
    "    print(f\"Step {i}, loss: {loss.item()}\")\n",
    "    losses.append(loss.item())\n"
   ]
  },
  {
   "cell_type": "code",
   "execution_count": 13,
   "metadata": {},
   "outputs": [
    {
     "data": {
      "text/plain": [
       "[<matplotlib.lines.Line2D at 0x3209f7b30>]"
      ]
     },
     "execution_count": 13,
     "metadata": {},
     "output_type": "execute_result"
    },
    {
     "data": {
      "image/png": "[encoded data removed]",
      "text/plain": [
       "<Figure size 640x480 with 1 Axes>"
      ]
     },
     "metadata": {},
     "output_type": "display_data"
    }
   ],
   "source": [
    "import matplotlib.pyplot as plt\n",
    "\n",
    "plt.plot(losses)"
   ]
  },
  {
   "cell_type": "code",
   "execution_count": 14,
   "metadata": {},
   "outputs": [],
   "source": [
    "torch.mps.empty_cache() #GPUPoor\n",
    "\n",
    "evalText = text[1000:]\n",
    "evalData = enc.encode(evalText)\n",
    "B, maxT = 8, 512\n",
    "\n",
    "x = torch.tensor(evalData[:B * maxT], device=computeDevice)\n",
    "x = x.view(B, maxT)\n",
    "\n",
    "# evalText = \"Second Citizen:\\nWould you proceed especially against Caius Marcius?\"\n",
    "# evalData = enc.encode(evalText)\n",
    "# x = torch.tensor(evalData, device=computeDevice)\n",
    "# x = x.view(1, -1)\n",
    "\n",
    "with torch.no_grad():\n",
    "    logits, loss = model(x)\n",
    "    logits = logits[:,-1,:]\n",
    "    probs = F.softmax(logits, dim=-1)\n",
    "    # do top-k sampling of 50\n",
    "    topk_probs, topk_indices = torch.topk(probs, 50, dim=-1)\n",
    "    ix = torch.multinomial(topk_probs, 1) # (B,1)\n",
    "    xcol = torch.gather(topk_indices, -1, ix)\n",
    "    x = torch.cat((x, xcol), dim=1)"
   ]
  },
  {
   "cell_type": "code",
   "execution_count": 18,
   "metadata": {},
   "outputs": [
    {
     "ename": "TypeError",
     "evalue": "argument 'tokens': 'list' object cannot be interpreted as an integer",
     "output_type": "error",
     "traceback": [
      "\u001b[0;31m---------------------------------------------------------------------------\u001b[0m",
      "\u001b[0;31mTypeError\u001b[0m                                 Traceback (most recent call last)",
      "Cell \u001b[0;32mIn[18], line 1\u001b[0m\n\u001b[0;32m----> 1\u001b[0m \u001b[38;5;28mprint\u001b[39m(\u001b[43menc\u001b[49m\u001b[38;5;241;43m.\u001b[39;49m\u001b[43mdecode\u001b[49m\u001b[43m(\u001b[49m\u001b[43mx\u001b[49m\u001b[43m[\u001b[49m\u001b[43m:\u001b[49m\u001b[43m,\u001b[49m\u001b[43m:\u001b[49m\u001b[38;5;241;43m-\u001b[39;49m\u001b[38;5;241;43m1\u001b[39;49m\u001b[43m]\u001b[49m\u001b[38;5;241;43m.\u001b[39;49m\u001b[43mtolist\u001b[49m\u001b[43m(\u001b[49m\u001b[43m)\u001b[49m\u001b[43m)\u001b[49m)\n\u001b[1;32m      2\u001b[0m \u001b[38;5;28mprint\u001b[39m(\u001b[38;5;124m\"\u001b[39m\u001b[38;5;124m***\u001b[39m\u001b[38;5;124m\"\u001b[39m \u001b[38;5;241m*\u001b[39m \u001b[38;5;241m10\u001b[39m)\n\u001b[1;32m      3\u001b[0m \u001b[38;5;28;01mfor\u001b[39;00m i \u001b[38;5;129;01min\u001b[39;00m \u001b[38;5;28mrange\u001b[39m(x\u001b[38;5;241m.\u001b[39msize(\u001b[38;5;241m0\u001b[39m)):\n",
      "File \u001b[0;32m~/.pyenv/versions/3.12.2/lib/python3.12/site-packages/tiktoken/core.py:258\u001b[0m, in \u001b[0;36mEncoding.decode\u001b[0;34m(self, tokens, errors)\u001b[0m\n\u001b[1;32m    246\u001b[0m \u001b[38;5;28;01mdef\u001b[39;00m \u001b[38;5;21mdecode\u001b[39m(\u001b[38;5;28mself\u001b[39m, tokens: \u001b[38;5;28mlist\u001b[39m[\u001b[38;5;28mint\u001b[39m], errors: \u001b[38;5;28mstr\u001b[39m \u001b[38;5;241m=\u001b[39m \u001b[38;5;124m\"\u001b[39m\u001b[38;5;124mreplace\u001b[39m\u001b[38;5;124m\"\u001b[39m) \u001b[38;5;241m-\u001b[39m\u001b[38;5;241m>\u001b[39m \u001b[38;5;28mstr\u001b[39m:\n\u001b[1;32m    247\u001b[0m \u001b[38;5;250m    \u001b[39m\u001b[38;5;124;03m\"\"\"Decodes a list of tokens into a string.\u001b[39;00m\n\u001b[1;32m    248\u001b[0m \n\u001b[1;32m    249\u001b[0m \u001b[38;5;124;03m    WARNING: the default behaviour of this function is lossy, since decoded bytes are not\u001b[39;00m\n\u001b[0;32m   (...)\u001b[0m\n\u001b[1;32m    256\u001b[0m \u001b[38;5;124;03m    ```\u001b[39;00m\n\u001b[1;32m    257\u001b[0m \u001b[38;5;124;03m    \"\"\"\u001b[39;00m\n\u001b[0;32m--> 258\u001b[0m     \u001b[38;5;28;01mreturn\u001b[39;00m \u001b[38;5;28;43mself\u001b[39;49m\u001b[38;5;241;43m.\u001b[39;49m\u001b[43m_core_bpe\u001b[49m\u001b[38;5;241;43m.\u001b[39;49m\u001b[43mdecode_bytes\u001b[49m\u001b[43m(\u001b[49m\u001b[43mtokens\u001b[49m\u001b[43m)\u001b[49m\u001b[38;5;241m.\u001b[39mdecode(\u001b[38;5;124m\"\u001b[39m\u001b[38;5;124mutf-8\u001b[39m\u001b[38;5;124m\"\u001b[39m, errors\u001b[38;5;241m=\u001b[39merrors)\n",
      "\u001b[0;31mTypeError\u001b[0m: argument 'tokens': 'list' object cannot be interpreted as an integer"
     ]
    }
   ],
   "source": [
    "print(enc.decode(x[:,:-1].tolist()))\n",
    "print(\"***\" * 10)\n",
    "for i in range(x.size(0)):\n",
    "    print(\"--\")\n",
    "    print(enc.decode([x[i,-1].tolist()]))"
   ]
  }
 ],
 "metadata": {
  "kernelspec": {
   "display_name": "Python 3",
   "language": "python",
   "name": "python3"
  },
  "language_info": {
   "codemirror_mode": {
    "name": "ipython",
    "version": 3
   },
   "file_extension": ".py",
   "mimetype": "text/x-python",
   "name": "python",
   "nbconvert_exporter": "python",
   "pygments_lexer": "ipython3",
   "version": "3.12.2"
  }
 },
 "nbformat": 4,
 "nbformat_minor": 2
}
