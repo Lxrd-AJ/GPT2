{
 "cells": [
  {
   "cell_type": "code",
   "execution_count": 46,
   "metadata": {},
   "outputs": [],
   "source": [
    "import torch\n",
    "import tiktoken\n",
    "from torch.nn import functional as F"
   ]
  },
  {
   "cell_type": "code",
   "execution_count": 47,
   "metadata": {},
   "outputs": [
    {
     "name": "stdout",
     "output_type": "stream",
     "text": [
      "Using Compute Device: mps\n"
     ]
    }
   ],
   "source": [
    "computeDevice = torch.device(\"cpu\")\n",
    "if torch.cuda.is_available():\n",
    "    computeDevice = torch.device(\"cuda\")\n",
    "elif hasattr(torch.backends, \"mps\") and torch.backends.mps.is_available():\n",
    "    computeDevice = torch.device(\"mps\")\n",
    "    \n",
    "print(f\"Using Compute Device: {computeDevice}\")\n",
    "\n",
    "torch.set_float32_matmul_precision(\"high\")"
   ]
  },
  {
   "cell_type": "code",
   "execution_count": 48,
   "metadata": {},
   "outputs": [
    {
     "name": "stdout",
     "output_type": "stream",
     "text": [
      "1115394\n",
      "torch.Size([4, 32])\n",
      "torch.Size([4, 32])\n"
     ]
    }
   ],
   "source": [
    "enc = tiktoken.get_encoding('gpt2')\n",
    "with open('input.txt', 'r') as f:\n",
    "    text = f.read()\n",
    "\n",
    "print(len(text))\n",
    "trainText = text[:1000]\n",
    "tokens = enc.encode(trainText)\n",
    "\n",
    "B, T = 4, 32\n",
    "buf = torch.tensor(tokens[:B*T + 1], device=computeDevice)\n",
    "x = buf[:-1].view(B, T)\n",
    "y = buf[1:].view(B, T)\n",
    "\n",
    "print(x.shape)\n",
    "print(y.shape) "
   ]
  },
  {
   "cell_type": "code",
   "execution_count": 49,
   "metadata": {},
   "outputs": [
    {
     "name": "stdout",
     "output_type": "stream",
     "text": [
      "Loading weights from pretrained gpt: gpt2\n",
      "sys.version_info(major=3, minor=12, micro=2, releaselevel='final', serial=0)\n",
      "Cannot compile pytorch model, skipping .....\n"
     ]
    }
   ],
   "source": [
    "from train_gpt2 import GPT, GPTConfig\n",
    "import sys\n",
    "\n",
    "# model = GPT(GPTConfig(vocab_size=50304))\n",
    "model = GPT.from_pretrained('gpt2')\n",
    "model.to(computeDevice)\n",
    "\n",
    "if sys.version_info.major == 3 and sys.version_info.minor < 12:\n",
    "    model = torch.compile(model)\n",
    "else:\n",
    "    print(sys.version_info)\n",
    "    print(f\"Cannot compile pytorch model, skipping .....\")"
   ]
  },
  {
   "cell_type": "code",
   "execution_count": 50,
   "metadata": {},
   "outputs": [
    {
     "name": "stdout",
     "output_type": "stream",
     "text": [
      "torch.Size([4, 32, 50257])\n",
      "tensor(5.1067, device='mps:0')\n"
     ]
    }
   ],
   "source": [
    "with torch.no_grad():\n",
    "    logits, loss = model(x,y)\n",
    "    print(logits.shape)\n",
    "    print(loss)"
   ]
  },
  {
   "cell_type": "code",
   "execution_count": 51,
   "metadata": {},
   "outputs": [],
   "source": [
    "import math\n",
    "\n",
    "# Cosine learning rate with warm up\n",
    "max_lr = 6e-4\n",
    "min_lr = max_lr * 0.1\n",
    "warmup_steps = 10\n",
    "max_steps = 50\n",
    "# warmup_steps = 715\n",
    "# max_steps = 19073\n",
    "\n",
    "def get_lr(it):\n",
    "    # 1 - Linear warmip for warmip_iters steps\n",
    "    if it < warmup_steps:\n",
    "        return max_lr * (it+1) / warmup_steps\n",
    "\n",
    "    # 2 - If it > lr_decay_iters, return min learning rate\n",
    "    if it > max_steps:\n",
    "        return min_lr\n",
    "\n",
    "    # 3 - In between, use cosine decay down to min learning rate\n",
    "    decay_ratio = (it - warmup_steps) / (max_steps - warmup_steps)\n",
    "    assert 0 <= decay_ratio <= 1\n",
    "    coeff = 0.5 * (1.0 + math.cos(math.pi * decay_ratio)) # coeff starts at 1 and goes to 0\n",
    "    return min_lr + coeff * (max_lr - min_lr)"
   ]
  },
  {
   "cell_type": "code",
   "execution_count": 52,
   "metadata": {},
   "outputs": [
    {
     "name": "stdout",
     "output_type": "stream",
     "text": [
      "Total desired batch size: 4096\n",
      "=> calculated gradient accumulation steps: 2\n"
     ]
    }
   ],
   "source": [
    "# Gradient Accumulation\n",
    "total_batch_size = 4096 #524288 # 2^19 -> ~0.5M in number of tokens\n",
    "B = 2 # micro batch size\n",
    "T = 1024 # sequence length\n",
    "assert total_batch_size % (B * T) == 0, \"make sure `total_batch_size` is divisible by `(B * T)`\"\n",
    "grad_accum_steps = total_batch_size // (B*T)\n",
    "print(f\"Total desired batch size: {total_batch_size}\")\n",
    "print(f\"=> calculated gradient accumulation steps: {grad_accum_steps}\")"
   ]
  },
  {
   "cell_type": "code",
   "execution_count": 53,
   "metadata": {},
   "outputs": [
    {
     "name": "stdout",
     "output_type": "stream",
     "text": [
      "num decayed parameter tensors: 50, with 124,318,464 parameters\n",
      "num non-decayed parameter tensors: 98, with 121,344 parameters\n",
      "Using fused AdamW: False, inspect check: True\n",
      "Validation loss: 3.2212\n",
      "Step    0 | loss: 3.389941 | lr: 6.0000e-05 | norm: 13.1464 | dt: 11872.30ms | tok/sec: 345.00\n",
      "Step    1 | loss: 4.430582 | lr: 1.2000e-04 | norm: 65.9015 | dt: 2934.96ms | tok/sec: 1395.59\n",
      "Step    2 | loss: 3.665580 | lr: 1.8000e-04 | norm: 15.2324 | dt: 2913.39ms | tok/sec: 1405.92\n",
      "Step    3 | loss: 3.486974 | lr: 2.4000e-04 | norm: 19.9974 | dt: 2941.22ms | tok/sec: 1392.62\n",
      "Step    4 | loss: 3.837164 | lr: 3.0000e-04 | norm: 15.3505 | dt: 2925.91ms | tok/sec: 1399.91\n"
     ]
    }
   ],
   "source": [
    "from data_loader import DataLoaderFineWeb #DataLoaderLite\n",
    "import time\n",
    "\n",
    "torch.mps.empty_cache()\n",
    "torch.manual_seed(1337)\n",
    "\n",
    "# B, T = 16, 1024\n",
    "# B, T = 4, 1024\n",
    "\n",
    "dataset = DataLoaderFineWeb(B, T, split=\"train\")\n",
    "val_loader = DataLoaderFineWeb(B, T, split=\"val\")\n",
    "# optimizer = torch.optim.AdamW(model.parameters(), lr=3e-4, betas=(0.9, 0.95), eps=1e-8)\n",
    "optimizer = model.configure_optimizers(weight_decay=0.1, learning_rate=6e-4, device=computeDevice)\n",
    "\n",
    "losses = []\n",
    "val_losses = []\n",
    "learn_rates = []\n",
    "for step in range(max_steps):\n",
    "    t0 = time.time()\n",
    "\n",
    "    # once in a while evaluate our validation loss\n",
    "    if step % 5 == 0:\n",
    "        model.eval()\n",
    "        val_loader.reset()\n",
    "        with torch.no_grad():\n",
    "            val_loss_accum = 0.0\n",
    "            val_loss_steps = 20\n",
    "            for _ in range(val_loss_steps):\n",
    "                x, y = val_loader.next_batch()\n",
    "                x, y = x.to(computeDevice), y.to(computeDevice)\n",
    "                if torch.cuda.is_available():\n",
    "                    with torch.autocast(device_type=computeDevice, dtype=torch.bfloat16):\n",
    "                        logits, loss = model(x, y)\n",
    "                else:\n",
    "                    logits, loss = model(x, y)\n",
    "                loss = loss / val_loss_steps\n",
    "                val_loss_accum += loss.detach()\n",
    "            print(f\"Validation loss: {val_loss_accum.item():.4f}\")\n",
    "            val_losses.append(val_loss_accum.item())\n",
    "\n",
    "    # training mode\n",
    "    model.train()\n",
    "    optimizer.zero_grad()\n",
    "    loss_accum = 0.0\n",
    "\n",
    "    for micro_step in range(grad_accum_steps):\n",
    "        x, y = dataset.next_batch()\n",
    "        x, y = x.to(computeDevice), y.to(computeDevice)\n",
    "\n",
    "        if torch.cuda.is_available():\n",
    "            with torch.autocast(device_type=computeDevice, dtype=torch.bfloat16):\n",
    "                logits, loss = model(x, y)\n",
    "        else:\n",
    "            logits, loss = model(x, y)\n",
    "        loss = loss / grad_accum_steps # normalize by the number of accumulation steps\n",
    "        loss_accum += loss.detach()\n",
    "        loss.backward()\n",
    "\n",
    "    norm = torch.nn.utils.clip_grad_norm_(model.parameters(), 1.0)\n",
    "    lr = get_lr(step)\n",
    "    learn_rates.append(lr)\n",
    "    for param_group in optimizer.param_groups:\n",
    "        param_group[lr] = lr\n",
    "    optimizer.step()\n",
    "\n",
    "    t1 = time.time()\n",
    "    dt = t1 - t0 # time difference in seconds\n",
    "    tokens_processed = dataset.B * dataset.T * grad_accum_steps\n",
    "    tokens_per_sec = tokens_processed / dt\n",
    "\n",
    "    print(f\"Step {step:4d} | loss: {loss_accum.item():.6f} | lr: {lr:.4e} | norm: {norm:.4f} | dt: {dt*1000:.2f}ms | tok/sec: {tokens_per_sec:.2f}\")\n",
    "    losses.append(loss.item())\n"
   ]
  },
  {
   "cell_type": "code",
   "execution_count": null,
   "metadata": {},
   "outputs": [
    {
     "data": {
      "text/plain": [
       "Text(0.5, 1.0, 'Validation Losses')"
      ]
     },
     "execution_count": 43,
     "metadata": {},
     "output_type": "execute_result"
    },
    {
     "data": {
      "image/png": "[encoded data removed]",
      "text/plain": [
       "<Figure size 1500x550 with 4 Axes>"
      ]
     },
     "metadata": {},
     "output_type": "display_data"
    }
   ],
   "source": [
    "import matplotlib.pyplot as plt\n",
    "\n",
    "fig, axs = plt.subplots(2, 2)\n",
    "fig.set_figwidth(15)\n",
    "fig.set_figheight(5.5)\n",
    "\n",
    "axs[0,0].plot(losses)\n",
    "axs[0,0].set_title(\"Train Losses\")\n",
    "axs[0,1].plot(learn_rates)\n",
    "axs[0,1].set_title(\"Learning Rates\")\n",
    "axs[1,0].plot(val_losses)\n",
    "axs[1,0].set_title(\"Validation Losses\")"
   ]
  },
  {
   "cell_type": "code",
   "execution_count": null,
   "metadata": {},
   "outputs": [],
   "source": [
    "torch.mps.empty_cache() #GPUPoor\n",
    "\n",
    "evalText = text[1000:]\n",
    "evalData = enc.encode(evalText)\n",
    "B, maxT = 8, 512\n",
    "\n",
    "x = torch.tensor(evalData[:B * maxT], device=computeDevice)\n",
    "x = x.view(B, maxT)\n",
    "\n",
    "# evalText = \"Second Citizen:\\nWould you proceed especially against Caius Marcius?\"\n",
    "# evalData = enc.encode(evalText)\n",
    "# x = torch.tensor(evalData, device=computeDevice)\n",
    "# x = x.view(1, -1)\n",
    "\n",
    "with torch.no_grad():\n",
    "    logits, loss = model(x)\n",
    "    logits = logits[:,-1,:]\n",
    "    probs = F.softmax(logits, dim=-1)\n",
    "    # do top-k sampling of 50\n",
    "    topk_probs, topk_indices = torch.topk(probs, 50, dim=-1)\n",
    "    ix = torch.multinomial(topk_probs, 1) # (B,1)\n",
    "    xcol = torch.gather(topk_indices, -1, ix)\n",
    "    x = torch.cat((x, xcol), dim=1)"
   ]
  },
  {
   "cell_type": "code",
   "execution_count": null,
   "metadata": {},
   "outputs": [
    {
     "name": "stdout",
     "output_type": "stream",
     "text": [
      "Second Citizen:\n",
      "Would you proceed especially against Caius Marcius?\n",
      "\n",
      "All:\n",
      "Against him first: he's a very dog to the commonalty.\n",
      "\n",
      "Second Citizen:\n",
      "Consider you what services he has done for his country?\n",
      "\n",
      "First Citizen:\n",
      "Very well; and could be content to give him good\n",
      "report fort, but that he pays himself with being proud.\n",
      "\n",
      "Second Citizen:\n",
      "Nay, but speak not maliciously.\n",
      "\n",
      "First Citizen:\n",
      "I say unto you, what he hath done famously, he did\n",
      "it to that end: though soft-conscienced men can be\n",
      "content to say it was for his country he did it to\n",
      "please his mother and to be partly proud; which he\n",
      "is, even till the altitude of his virtue.\n",
      "\n",
      "Second Citizen:\n",
      "What he cannot help in his nature, you account a\n",
      "vice in him. You must in no way say he is covetous.\n",
      "\n",
      "First Citizen:\n",
      "If I must not, I need not be barren of accusations;\n",
      "he hath faults, with surplus, to tire in repetition.\n",
      "What shouts are these? The other side o' the city\n",
      "is risen: why stay we prating here? to the Capitol!\n",
      "\n",
      "All:\n",
      "Come, come.\n",
      "\n",
      "First Citizen:\n",
      "Soft! who comes here?\n",
      "\n",
      "Second Citizen:\n",
      "Worthy Menenius Agrippa; one that hath always loved\n",
      "the people.\n",
      "\n",
      "First Citizen:\n",
      "He's one honest enough: would all the rest were so!\n",
      "\n",
      "MENENIUS:\n",
      "What work's, my countrymen, in hand? where go you\n",
      "With bats and clubs? The matter? speak, I pray you.\n",
      "\n",
      "First Citizen:\n",
      "Our business is not unknown to the senate; they have\n",
      "had inkling this fortnight what we intend to do,\n",
      "which now we'll show 'em in deeds. They say poor\n",
      "suitors have strong breaths: they shall know we\n",
      "have strong arms too.\n",
      "\n",
      "MENENIUS:\n",
      "Why, masters, my good friends, mine honest neighbours,\n",
      "Will you undo yourselves?\n",
      "\n",
      "First Citizen:\n",
      "We cannot, sir, we are undone already.\n",
      "\n",
      "MENENIUS:\n",
      "I tell you, friends, most charitable care\n",
      "Have the patricians of you. For your wants,\n",
      "Your suffering in this dearth, you may as well\n",
      "Strike at the heaven with your\n",
      "******************************\n",
      "--\n",
      " feet\n",
      "--\n",
      " move\n",
      "--\n",
      " to\n",
      "--\n",
      ",\n",
      "--\n",
      " what\n",
      "--\n",
      "I\n",
      "--\n",
      "I\n",
      "--\n",
      "d\n"
     ]
    }
   ],
   "source": [
    "print(enc.decode(x[0,:-1].tolist()))\n",
    "print(\"***\" * 10)\n",
    "for i in range(x.size(0)):\n",
    "    print(\"--\")\n",
    "    print(enc.decode([x[i,-1].tolist()]))"
   ]
  }
 ],
 "metadata": {
  "kernelspec": {
   "display_name": "Python 3",
   "language": "python",
   "name": "python3"
  },
  "language_info": {
   "codemirror_mode": {
    "name": "ipython",
    "version": 3
   },
   "file_extension": ".py",
   "mimetype": "text/x-python",
   "name": "python",
   "nbconvert_exporter": "python",
   "pygments_lexer": "ipython3",
   "version": "3.12.2"
  }
 },
 "nbformat": 4,
 "nbformat_minor": 2
}
