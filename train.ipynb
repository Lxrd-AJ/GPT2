{
 "cells": [
  {
   "cell_type": "code",
   "execution_count": 11,
   "metadata": {},
   "outputs": [],
   "source": [
    "import torch\n",
    "import tiktoken\n",
    "from torch.nn import functional as F"
   ]
  },
  {
   "cell_type": "code",
   "execution_count": 12,
   "metadata": {},
   "outputs": [
    {
     "name": "stdout",
     "output_type": "stream",
     "text": [
      "Using Compute Device: mps\n"
     ]
    }
   ],
   "source": [
    "computeDevice = torch.device(\"cpu\")\n",
    "if torch.cuda.is_available():\n",
    "    computeDevice = torch.device(\"cuda\")\n",
    "elif hasattr(torch.backends, \"mps\") and torch.backends.mps.is_available():\n",
    "    computeDevice = torch.device(\"mps\")\n",
    "    \n",
    "print(f\"Using Compute Device: {computeDevice}\")"
   ]
  },
  {
   "cell_type": "code",
   "execution_count": 13,
   "metadata": {},
   "outputs": [
    {
     "name": "stdout",
     "output_type": "stream",
     "text": [
      "1115394\n",
      "torch.Size([4, 32])\n",
      "torch.Size([4, 32])\n"
     ]
    }
   ],
   "source": [
    "enc = tiktoken.get_encoding('gpt2')\n",
    "with open('input.txt', 'r') as f:\n",
    "    text = f.read()\n",
    "\n",
    "print(len(text))\n",
    "trainText = text[:1000]\n",
    "tokens = enc.encode(trainText)\n",
    "\n",
    "B, T = 4, 32\n",
    "buf = torch.tensor(tokens[:B*T + 1], device=computeDevice)\n",
    "x = buf[:-1].view(B, T)\n",
    "y = buf[1:].view(B, T)\n",
    "\n",
    "print(x.shape)\n",
    "print(y.shape)"
   ]
  },
  {
   "cell_type": "code",
   "execution_count": 14,
   "metadata": {},
   "outputs": [
    {
     "data": {
      "text/plain": [
       "GPT(\n",
       "  (transformer): ModuleDict(\n",
       "    (wte): Embedding(50257, 768)\n",
       "    (wpe): Embedding(1024, 768)\n",
       "    (h): ModuleList(\n",
       "      (0-11): 12 x Block(\n",
       "        (ln_1): LayerNorm((768,), eps=1e-05, elementwise_affine=True)\n",
       "        (attn): CausalSelfAttention(\n",
       "          (c_attn): Linear(in_features=768, out_features=2304, bias=True)\n",
       "          (c_proj): Linear(in_features=768, out_features=768, bias=True)\n",
       "        )\n",
       "        (ln_2): LayerNorm((768,), eps=1e-05, elementwise_affine=True)\n",
       "        (mlp): MLP(\n",
       "          (c_fc): Linear(in_features=768, out_features=3072, bias=True)\n",
       "          (gelu): GELU(approximate='tanh')\n",
       "          (c_proj): Linear(in_features=3072, out_features=768, bias=True)\n",
       "        )\n",
       "      )\n",
       "    )\n",
       "    (ln_f): LayerNorm((768,), eps=1e-05, elementwise_affine=True)\n",
       "  )\n",
       "  (lm_head): Linear(in_features=768, out_features=50257, bias=False)\n",
       ")"
      ]
     },
     "execution_count": 14,
     "metadata": {},
     "output_type": "execute_result"
    }
   ],
   "source": [
    "from train_gpt2 import GPT, GPTConfig\n",
    "\n",
    "model = GPT(GPTConfig())\n",
    "model.to(computeDevice)"
   ]
  },
  {
   "cell_type": "code",
   "execution_count": 15,
   "metadata": {},
   "outputs": [
    {
     "name": "stdout",
     "output_type": "stream",
     "text": [
      "torch.Size([4, 32, 50257])\n",
      "tensor(10.8360, device='mps:0')\n"
     ]
    }
   ],
   "source": [
    "with torch.no_grad():\n",
    "    logits, loss = model(x,y)\n",
    "    print(logits.shape)\n",
    "    print(loss)"
   ]
  },
  {
   "cell_type": "code",
   "execution_count": 16,
   "metadata": {},
   "outputs": [
    {
     "name": "stdout",
     "output_type": "stream",
     "text": [
      "Loaded 338025 tokens\n",
      "1 epoch = 2640 batches\n",
      "Step 0, loss: 10.836030960083008\n",
      "Step 1, loss: 9.719564437866211\n",
      "Step 2, loss: 9.055830955505371\n",
      "Step 3, loss: 9.235494613647461\n",
      "Step 4, loss: 8.660428047180176\n",
      "Step 5, loss: 8.273024559020996\n",
      "Step 6, loss: 9.031418800354004\n",
      "Step 7, loss: 8.702554702758789\n",
      "Step 8, loss: 8.204258918762207\n",
      "Step 9, loss: 8.069696426391602\n",
      "Step 10, loss: 8.380194664001465\n",
      "Step 11, loss: 7.477408409118652\n",
      "Step 12, loss: 7.889606475830078\n",
      "Step 13, loss: 7.514639854431152\n",
      "Step 14, loss: 7.620720386505127\n",
      "Step 15, loss: 7.337192535400391\n",
      "Step 16, loss: 7.450829982757568\n",
      "Step 17, loss: 8.239480972290039\n",
      "Step 18, loss: 7.255712509155273\n",
      "Step 19, loss: 7.851762771606445\n",
      "Step 20, loss: 7.577338218688965\n",
      "Step 21, loss: 7.9191999435424805\n",
      "Step 22, loss: 6.507256507873535\n",
      "Step 23, loss: 6.915849685668945\n",
      "Step 24, loss: 6.98557186126709\n",
      "Step 25, loss: 6.7891130447387695\n",
      "Step 26, loss: 6.863680839538574\n",
      "Step 27, loss: 7.681197643280029\n",
      "Step 28, loss: 7.203378677368164\n",
      "Step 29, loss: 6.982250690460205\n",
      "Step 30, loss: 6.979469299316406\n",
      "Step 31, loss: 7.322400093078613\n",
      "Step 32, loss: 7.212606430053711\n",
      "Step 33, loss: 7.054481506347656\n",
      "Step 34, loss: 7.946922779083252\n",
      "Step 35, loss: 7.761385440826416\n",
      "Step 36, loss: 7.68670654296875\n",
      "Step 37, loss: 7.699715614318848\n",
      "Step 38, loss: 7.989664554595947\n",
      "Step 39, loss: 7.410440444946289\n",
      "Step 40, loss: 7.350298881530762\n",
      "Step 41, loss: 6.8592610359191895\n",
      "Step 42, loss: 6.978756427764893\n",
      "Step 43, loss: 7.072528839111328\n",
      "Step 44, loss: 6.915236949920654\n",
      "Step 45, loss: 6.912387371063232\n",
      "Step 46, loss: 6.058632850646973\n",
      "Step 47, loss: 6.2718505859375\n",
      "Step 48, loss: 6.933608055114746\n",
      "Step 49, loss: 6.809121131896973\n"
     ]
    }
   ],
   "source": [
    "from data_loader import DataLoaderLite\n",
    "\n",
    "torch.manual_seed(1337)\n",
    "\n",
    "dataset = DataLoaderLite(B, T)\n",
    "optimizer = torch.optim.AdamW(model.parameters(), lr=3e-4)\n",
    "losses = []\n",
    "for i in range(50):\n",
    "    optimizer.zero_grad()\n",
    "    x, y = dataset.next_batch()\n",
    "    x, y = x.to(computeDevice), y.to(computeDevice)\n",
    "    logits, loss = model(x, y)\n",
    "    loss.backward()\n",
    "    optimizer.step()\n",
    "    print(f\"Step {i}, loss: {loss.item()}\")\n",
    "    losses.append(loss.item())\n"
   ]
  },
  {
   "cell_type": "code",
   "execution_count": 17,
   "metadata": {},
   "outputs": [
    {
     "data": {
      "text/plain": [
       "[<matplotlib.lines.Line2D at 0x3a86b1460>]"
      ]
     },
     "execution_count": 17,
     "metadata": {},
     "output_type": "execute_result"
    },
    {
     "data": {
      "image/png": "[encoded data removed]",
      "text/plain": [
       "<Figure size 640x480 with 1 Axes>"
      ]
     },
     "metadata": {},
     "output_type": "display_data"
    }
   ],
   "source": [
    "import matplotlib.pyplot as plt\n",
    "\n",
    "plt.plot(losses)"
   ]
  },
  {
   "cell_type": "code",
   "execution_count": 18,
   "metadata": {},
   "outputs": [],
   "source": [
    "torch.mps.empty_cache() #GPUPoor\n",
    "\n",
    "evalText = text[1000:]\n",
    "evalData = enc.encode(evalText)\n",
    "B, maxT = 8, 512\n",
    "\n",
    "x = torch.tensor(evalData[:B * maxT], device=computeDevice)\n",
    "x = x.view(B, maxT)\n",
    "\n",
    "# evalText = \"Second Citizen:\\nWould you proceed especially against Caius Marcius?\"\n",
    "# evalData = enc.encode(evalText)\n",
    "# x = torch.tensor(evalData, device=computeDevice)\n",
    "# x = x.view(1, -1)\n",
    "\n",
    "with torch.no_grad():\n",
    "    logits, loss = model(x)\n",
    "    logits = logits[:,-1,:]\n",
    "    probs = F.softmax(logits, dim=-1)\n",
    "    # do top-k sampling of 50\n",
    "    topk_probs, topk_indices = torch.topk(probs, 50, dim=-1)\n",
    "    ix = torch.multinomial(topk_probs, 1) # (B,1)\n",
    "    xcol = torch.gather(topk_indices, -1, ix)\n",
    "    x = torch.cat((x, xcol), dim=1)"
   ]
  },
  {
   "cell_type": "code",
   "execution_count": 32,
   "metadata": {},
   "outputs": [
    {
     "name": "stdout",
     "output_type": "stream",
     "text": [
      "They have press'd a power, but it is not known\n",
      "Whether for east or west: the dearth is great;\n",
      "The people mutinous; and it is rumour'd,\n",
      "Cominius, Marcius your old enemy,\n",
      "Who is of Rome worse hated than of you,\n",
      "And Titus Lartius, a most valiant Roman,\n",
      "These three lead on this preparation\n",
      "Whither 'tis bent: most likely 'tis for you:\n",
      "Consider of it.'\n",
      "\n",
      "First Senator:\n",
      "Our army's in the field\n",
      "We never yet made doubt but Rome was ready\n",
      "To answer us.\n",
      "\n",
      "AUFIDIUS:\n",
      "Nor did you think it folly\n",
      "To keep your great pretences veil'd till when\n",
      "They needs must show themselves; which\n",
      "in the hatching,\n",
      "It seem'd, appear'd to Rome. By the discovery.\n",
      "We shall be shorten'd in our aim, which was\n",
      "To take in many towns ere almost Rome\n",
      "Should know we were afoot.\n",
      "\n",
      "Second Senator:\n",
      "Noble Aufidius,\n",
      "Take your commission; hie you to your bands:\n",
      "Let us alone to guard Corioli:\n",
      "If they set down before 's, for the remove\n",
      "Bring your army; but, I think, you'll find\n",
      "They've not prepared for us.\n",
      "\n",
      "AUFIDIUS:\n",
      "O, doubt not that;\n",
      "I speak from certainties. Nay, more,\n",
      "Some parcels of their power are forth already,\n",
      "And only hitherward. I leave your honours.\n",
      "If we and Caius Marcius chance to meet,\n",
      "'Tis sworn between us we shall ever strike\n",
      "Till one can do no more.\n",
      "\n",
      "All:\n",
      "The gods assist you!\n",
      "\n",
      "AUFIDIUS:\n",
      "And keep your honours safe!\n",
      "\n",
      "First Senator:\n",
      "Farewell.\n",
      "\n",
      "Second Senator:\n",
      "Farewell.\n",
      "\n",
      "All:\n",
      "Farewell.\n",
      "\n",
      "VOLUMNIA:\n",
      "I pray you, daughter, sing; or express yourself in a\n",
      "more comfortable sort: if my son were my husband, I\n",
      "should freelier rejoice in that absence wherein he\n",
      "won honour than in the embracements of his bed where\n",
      "he would show most love. When yet he was but\n",
      "tender-bodied and the only son of my womb, when\n",
      "youth with comeliness plucked all gaze his way, when\n",
      "\n",
      "******************************\n",
      "--\n",
      "\n",
      "\n",
      "--\n",
      ":\n",
      "--\n",
      ".\n",
      "--\n",
      ",\n",
      "--\n",
      "ius\n",
      "--\n",
      "IA\n",
      "--\n",
      ".\n",
      "--\n",
      "\n",
      "\n"
     ]
    }
   ],
   "source": [
    "print(enc.decode(x[i,:-1].tolist()))\n",
    "print(\"***\" * 10)\n",
    "for i in range(x.size(0)):\n",
    "    print(\"--\")\n",
    "    print(enc.decode([x[i,-1].tolist()]))"
   ]
  }
 ],
 "metadata": {
  "kernelspec": {
   "display_name": "Python 3",
   "language": "python",
   "name": "python3"
  },
  "language_info": {
   "codemirror_mode": {
    "name": "ipython",
    "version": 3
   },
   "file_extension": ".py",
   "mimetype": "text/x-python",
   "name": "python",
   "nbconvert_exporter": "python",
   "pygments_lexer": "ipython3",
   "version": "3.12.2"
  }
 },
 "nbformat": 4,
 "nbformat_minor": 2
}
