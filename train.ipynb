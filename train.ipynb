{
 "cells": [
  {
   "cell_type": "code",
   "execution_count": 8,
   "metadata": {},
   "outputs": [],
   "source": [
    "import torch\n",
    "import tiktoken\n",
    "from torch.nn import functional as F"
   ]
  },
  {
   "cell_type": "code",
   "execution_count": 9,
   "metadata": {},
   "outputs": [
    {
     "name": "stdout",
     "output_type": "stream",
     "text": [
      "Using Compute Device: mps\n"
     ]
    }
   ],
   "source": [
    "computeDevice = torch.device(\"cpu\")\n",
    "if torch.cuda.is_available():\n",
    "    computeDevice = torch.device(\"cuda\")\n",
    "elif hasattr(torch.backends, \"mps\") and torch.backends.mps.is_available():\n",
    "    computeDevice = torch.device(\"mps\")\n",
    "    \n",
    "print(f\"Using Compute Device: {computeDevice}\")\n",
    "\n",
    "torch.set_float32_matmul_precision(\"high\")"
   ]
  },
  {
   "cell_type": "code",
   "execution_count": 10,
   "metadata": {},
   "outputs": [
    {
     "name": "stdout",
     "output_type": "stream",
     "text": [
      "1115394\n",
      "torch.Size([4, 32])\n",
      "torch.Size([4, 32])\n"
     ]
    }
   ],
   "source": [
    "enc = tiktoken.get_encoding('gpt2')\n",
    "with open('input.txt', 'r') as f:\n",
    "    text = f.read()\n",
    "\n",
    "print(len(text))\n",
    "trainText = text[:1000]\n",
    "tokens = enc.encode(trainText)\n",
    "\n",
    "B, T = 4, 32\n",
    "buf = torch.tensor(tokens[:B*T + 1], device=computeDevice)\n",
    "x = buf[:-1].view(B, T)\n",
    "y = buf[1:].view(B, T)\n",
    "\n",
    "print(x.shape)\n",
    "print(y.shape) "
   ]
  },
  {
   "cell_type": "code",
   "execution_count": 11,
   "metadata": {},
   "outputs": [
    {
     "name": "stdout",
     "output_type": "stream",
     "text": [
      "sys.version_info(major=3, minor=12, micro=2, releaselevel='final', serial=0)\n",
      "Cannot compile pytorch model, skipping .....\n"
     ]
    }
   ],
   "source": [
    "from train_gpt2 import GPT, GPTConfig\n",
    "import sys\n",
    "\n",
    "model = GPT(GPTConfig(vocab_size=50304))\n",
    "model.to(computeDevice)\n",
    "\n",
    "if sys.version_info.major == 3 and sys.version_info.minor < 12:\n",
    "    model = torch.compile(model)\n",
    "else:\n",
    "    print(sys.version_info)\n",
    "    print(f\"Cannot compile pytorch model, skipping .....\")"
   ]
  },
  {
   "cell_type": "code",
   "execution_count": 12,
   "metadata": {},
   "outputs": [
    {
     "name": "stdout",
     "output_type": "stream",
     "text": [
      "torch.Size([4, 32, 50304])\n",
      "tensor(10.9521, device='mps:0')\n"
     ]
    }
   ],
   "source": [
    "with torch.no_grad():\n",
    "    logits, loss = model(x,y)\n",
    "    print(logits.shape)\n",
    "    print(loss)"
   ]
  },
  {
   "cell_type": "code",
   "execution_count": 13,
   "metadata": {},
   "outputs": [],
   "source": [
    "import math\n",
    "\n",
    "# Cosine learning rate with warm up\n",
    "max_lr = 6e-4\n",
    "min_lr = max_lr * 0.1\n",
    "warmup_steps = 10\n",
    "max_steps = 50\n",
    "\n",
    "def get_lr(it):\n",
    "    # 1 - Linear warmip for warmip_iters steps\n",
    "    if it < warmup_steps:\n",
    "        return max_lr * (it+1) / warmup_steps\n",
    "\n",
    "    # 2 - If it > lr_decay_iters, return min learning rate\n",
    "    if it > max_steps:\n",
    "        return min_lr\n",
    "\n",
    "    # 3 - In between, use cosine decay down to min learning rate\n",
    "    decay_ratio = (it - warmup_steps) / (max_steps - warmup_steps)\n",
    "    assert 0 <= decay_ratio <= 1\n",
    "    coeff = 0.5 * (1.0 + math.cos(math.pi * decay_ratio)) # coeff starts at 1 and goes to 0\n",
    "    return min_lr + coeff * (max_lr - min_lr)"
   ]
  },
  {
   "cell_type": "code",
   "execution_count": 14,
   "metadata": {},
   "outputs": [
    {
     "name": "stdout",
     "output_type": "stream",
     "text": [
      "Loaded 338025 tokens\n",
      "1 epoch = 82 batches\n",
      "Step    0 | loss: 10.928757 | lr: 6.0000e-05 | norm: 30.4258 | dt: 2936.53ms | tok/sec: 1394.84\n",
      "Step    1 | loss: 9.511612 | lr: 1.2000e-04 | norm: 6.1820 | dt: 3735.91ms | tok/sec: 1096.39\n",
      "Step    2 | loss: 9.002340 | lr: 1.8000e-04 | norm: 2.3709 | dt: 2953.97ms | tok/sec: 1386.61\n",
      "Step    3 | loss: 8.802098 | lr: 2.4000e-04 | norm: 4.1313 | dt: 2834.12ms | tok/sec: 1445.24\n",
      "Step    4 | loss: 8.388184 | lr: 3.0000e-04 | norm: 2.4516 | dt: 2816.15ms | tok/sec: 1454.47\n",
      "Step    5 | loss: 7.979677 | lr: 3.6000e-04 | norm: 2.5404 | dt: 2828.36ms | tok/sec: 1448.19\n",
      "Step    6 | loss: 7.888886 | lr: 4.2000e-04 | norm: 2.2775 | dt: 2825.02ms | tok/sec: 1449.90\n",
      "Step    7 | loss: 7.658165 | lr: 4.8000e-04 | norm: 1.8512 | dt: 2825.40ms | tok/sec: 1449.70\n",
      "Step    8 | loss: 7.560284 | lr: 5.4000e-04 | norm: 1.6844 | dt: 2830.27ms | tok/sec: 1447.21\n",
      "Step    9 | loss: 7.276411 | lr: 6.0000e-04 | norm: 1.5502 | dt: 2830.46ms | tok/sec: 1447.11\n",
      "Step   10 | loss: 7.299589 | lr: 6.0000e-04 | norm: 1.6926 | dt: 2850.91ms | tok/sec: 1436.73\n",
      "Step   11 | loss: 7.220587 | lr: 5.9917e-04 | norm: 1.4248 | dt: 2843.67ms | tok/sec: 1440.39\n",
      "Step   12 | loss: 7.266456 | lr: 5.9668e-04 | norm: 2.1506 | dt: 2860.62ms | tok/sec: 1431.86\n",
      "Step   13 | loss: 7.165931 | lr: 5.9254e-04 | norm: 1.3521 | dt: 2825.40ms | tok/sec: 1449.70\n",
      "Step   14 | loss: 6.806657 | lr: 5.8679e-04 | norm: 1.9165 | dt: 2851.09ms | tok/sec: 1436.64\n",
      "Step   15 | loss: 6.786963 | lr: 5.7945e-04 | norm: 1.3378 | dt: 2821.42ms | tok/sec: 1451.75\n",
      "Step   16 | loss: 6.678537 | lr: 5.7057e-04 | norm: 4.2938 | dt: 2868.79ms | tok/sec: 1427.78\n",
      "Step   17 | loss: 6.437397 | lr: 5.6021e-04 | norm: 1.1559 | dt: 2877.76ms | tok/sec: 1423.33\n",
      "Step   18 | loss: 6.617049 | lr: 5.4843e-04 | norm: 1.6392 | dt: 2813.21ms | tok/sec: 1455.99\n",
      "Step   19 | loss: 6.602571 | lr: 5.3531e-04 | norm: 1.1096 | dt: 2813.12ms | tok/sec: 1456.03\n",
      "Step   20 | loss: 6.806824 | lr: 5.2092e-04 | norm: 1.4244 | dt: 2830.86ms | tok/sec: 1446.91\n",
      "Step   21 | loss: 6.591904 | lr: 5.0535e-04 | norm: 1.7179 | dt: 2828.82ms | tok/sec: 1447.95\n",
      "Step   22 | loss: 6.562889 | lr: 4.8870e-04 | norm: 0.8539 | dt: 2881.41ms | tok/sec: 1421.53\n",
      "Step   23 | loss: 6.682660 | lr: 4.7107e-04 | norm: 1.4901 | dt: 2830.41ms | tok/sec: 1447.14\n",
      "Step   24 | loss: 6.714660 | lr: 4.5258e-04 | norm: 1.3564 | dt: 2838.15ms | tok/sec: 1443.19\n",
      "Step   25 | loss: 6.665428 | lr: 4.3332e-04 | norm: 0.8612 | dt: 2821.44ms | tok/sec: 1451.74\n",
      "Step   26 | loss: 6.515862 | lr: 4.1343e-04 | norm: 1.2858 | dt: 2832.72ms | tok/sec: 1445.96\n",
      "Step   27 | loss: 6.556175 | lr: 3.9303e-04 | norm: 1.1715 | dt: 2822.66ms | tok/sec: 1451.11\n",
      "Step   28 | loss: 6.548484 | lr: 3.7224e-04 | norm: 0.8897 | dt: 2825.44ms | tok/sec: 1449.68\n",
      "Step   29 | loss: 6.405096 | lr: 3.5118e-04 | norm: 1.2279 | dt: 2837.99ms | tok/sec: 1443.27\n",
      "Step   30 | loss: 6.307992 | lr: 3.3000e-04 | norm: 1.1234 | dt: 2897.45ms | tok/sec: 1413.66\n",
      "Step   31 | loss: 6.230598 | lr: 3.0882e-04 | norm: 1.1026 | dt: 2844.06ms | tok/sec: 1440.19\n",
      "Step   32 | loss: 6.304115 | lr: 2.8776e-04 | norm: 1.1803 | dt: 2869.11ms | tok/sec: 1427.62\n",
      "Step   33 | loss: 6.464360 | lr: 2.6697e-04 | norm: 1.1922 | dt: 2900.96ms | tok/sec: 1411.94\n",
      "Step   34 | loss: 6.455881 | lr: 2.4657e-04 | norm: 0.9581 | dt: 2842.53ms | tok/sec: 1440.97\n",
      "Step   35 | loss: 6.450997 | lr: 2.2668e-04 | norm: 1.4751 | dt: 2855.22ms | tok/sec: 1434.56\n",
      "Step   36 | loss: 6.239595 | lr: 2.0742e-04 | norm: 1.2450 | dt: 2844.47ms | tok/sec: 1439.99\n",
      "Step   37 | loss: 6.427658 | lr: 1.8893e-04 | norm: 1.2255 | dt: 2820.07ms | tok/sec: 1452.44\n",
      "Step   38 | loss: 6.229082 | lr: 1.7130e-04 | norm: 0.9938 | dt: 2784.70ms | tok/sec: 1470.89\n",
      "Step   39 | loss: 6.057622 | lr: 1.5465e-04 | norm: 1.0943 | dt: 2791.64ms | tok/sec: 1467.24\n",
      "Step   40 | loss: 6.168343 | lr: 1.3908e-04 | norm: 1.1580 | dt: 2803.04ms | tok/sec: 1461.27\n",
      "Step   41 | loss: 6.266012 | lr: 1.2469e-04 | norm: 1.1904 | dt: 2786.70ms | tok/sec: 1469.84\n",
      "Step   42 | loss: 6.119053 | lr: 1.1157e-04 | norm: 1.1979 | dt: 2804.88ms | tok/sec: 1460.31\n",
      "Step   43 | loss: 6.102076 | lr: 9.9787e-05 | norm: 1.0726 | dt: 2773.43ms | tok/sec: 1476.87\n",
      "Step   44 | loss: 6.257727 | lr: 8.9428e-05 | norm: 1.2698 | dt: 2760.72ms | tok/sec: 1483.67\n",
      "Step   45 | loss: 6.153847 | lr: 8.0553e-05 | norm: 1.1236 | dt: 2789.45ms | tok/sec: 1468.39\n",
      "Step   46 | loss: 5.996015 | lr: 7.3215e-05 | norm: 0.7804 | dt: 2781.19ms | tok/sec: 1472.75\n",
      "Step   47 | loss: 6.031034 | lr: 6.7460e-05 | norm: 1.1267 | dt: 2817.07ms | tok/sec: 1453.99\n",
      "Step   48 | loss: 6.050451 | lr: 6.3324e-05 | norm: 1.0862 | dt: 2808.12ms | tok/sec: 1458.63\n",
      "Step   49 | loss: 5.930440 | lr: 6.0832e-05 | norm: 0.9042 | dt: 2812.83ms | tok/sec: 1456.18\n"
     ]
    }
   ],
   "source": [
    "from data_loader import DataLoaderLite\n",
    "import time\n",
    "\n",
    "torch.mps.empty_cache()\n",
    "torch.manual_seed(1337)\n",
    "\n",
    "# B, T = 16, 1024\n",
    "B, T = 4, 1024\n",
    "# B, T = 4, 256\n",
    "dataset = DataLoaderLite(B, T)\n",
    "optimizer = torch.optim.AdamW(model.parameters(), lr=3e-4, betas=(0.9, 0.95), eps=1e-8)\n",
    "losses = []\n",
    "learn_rates = []\n",
    "for step in range(max_steps):\n",
    "    t0 = time.time()\n",
    "    x, y = dataset.next_batch()\n",
    "    x, y = x.to(computeDevice), y.to(computeDevice)\n",
    "\n",
    "    optimizer.zero_grad()\n",
    "    if torch.cuda.is_available():\n",
    "        with torch.autocast(device_type=computeDevice, dtype=torch.bfloat16):\n",
    "            logits, loss = model(x, y)\n",
    "    else:\n",
    "        logits, loss = model(x, y)\n",
    "    loss.backward()\n",
    "\n",
    "    norm = torch.nn.utils.clip_grad_norm_(model.parameters(), 1.0)\n",
    "    lr = get_lr(step)\n",
    "    learn_rates.append(lr)\n",
    "    for param_group in optimizer.param_groups:\n",
    "        param_group[lr] = lr\n",
    "    optimizer.step()\n",
    "\n",
    "    t1 = time.time()\n",
    "    dt = t1 - t0 # time difference in seconds\n",
    "    tokens_processed = dataset.B * dataset.T\n",
    "    tokens_per_sec = tokens_processed / dt\n",
    "\n",
    "    print(f\"Step {step:4d} | loss: {loss.item():.6f} | lr: {lr:.4e} | norm: {norm:.4f} | dt: {dt*1000:.2f}ms | tok/sec: {tokens_per_sec:.2f}\")\n",
    "    losses.append(loss.item())\n"
   ]
  },
  {
   "cell_type": "code",
   "execution_count": 29,
   "metadata": {},
   "outputs": [
    {
     "data": {
      "text/plain": [
       "[<matplotlib.lines.Line2D at 0x315513320>]"
      ]
     },
     "execution_count": 29,
     "metadata": {},
     "output_type": "execute_result"
    },
    {
     "data": {
      "image/png": "[encoded data removed]",
      "text/plain": [
       "<Figure size 1500x550 with 2 Axes>"
      ]
     },
     "metadata": {},
     "output_type": "display_data"
    }
   ],
   "source": [
    "import matplotlib.pyplot as plt\n",
    "\n",
    "fig, axs = plt.subplots(1, 2)\n",
    "fig.set_figwidth(15)\n",
    "fig.set_figheight(5.5)\n",
    "\n",
    "axs[0].plot(losses)\n",
    "axs[1].plot(learn_rates)"
   ]
  },
  {
   "cell_type": "code",
   "execution_count": 30,
   "metadata": {},
   "outputs": [],
   "source": [
    "torch.mps.empty_cache() #GPUPoor\n",
    "\n",
    "evalText = text[1000:]\n",
    "evalData = enc.encode(evalText)\n",
    "B, maxT = 8, 512\n",
    "\n",
    "x = torch.tensor(evalData[:B * maxT], device=computeDevice)\n",
    "x = x.view(B, maxT)\n",
    "\n",
    "# evalText = \"Second Citizen:\\nWould you proceed especially against Caius Marcius?\"\n",
    "# evalData = enc.encode(evalText)\n",
    "# x = torch.tensor(evalData, device=computeDevice)\n",
    "# x = x.view(1, -1)\n",
    "\n",
    "with torch.no_grad():\n",
    "    logits, loss = model(x)\n",
    "    logits = logits[:,-1,:]\n",
    "    probs = F.softmax(logits, dim=-1)\n",
    "    # do top-k sampling of 50\n",
    "    topk_probs, topk_indices = torch.topk(probs, 50, dim=-1)\n",
    "    ix = torch.multinomial(topk_probs, 1) # (B,1)\n",
    "    xcol = torch.gather(topk_indices, -1, ix)\n",
    "    x = torch.cat((x, xcol), dim=1)"
   ]
  },
  {
   "cell_type": "code",
   "execution_count": 31,
   "metadata": {},
   "outputs": [
    {
     "name": "stdout",
     "output_type": "stream",
     "text": [
      "Second Citizen:\n",
      "Would you proceed especially against Caius Marcius?\n",
      "\n",
      "All:\n",
      "Against him first: he's a very dog to the commonalty.\n",
      "\n",
      "Second Citizen:\n",
      "Consider you what services he has done for his country?\n",
      "\n",
      "First Citizen:\n",
      "Very well; and could be content to give him good\n",
      "report fort, but that he pays himself with being proud.\n",
      "\n",
      "Second Citizen:\n",
      "Nay, but speak not maliciously.\n",
      "\n",
      "First Citizen:\n",
      "I say unto you, what he hath done famously, he did\n",
      "it to that end: though soft-conscienced men can be\n",
      "content to say it was for his country he did it to\n",
      "please his mother and to be partly proud; which he\n",
      "is, even till the altitude of his virtue.\n",
      "\n",
      "Second Citizen:\n",
      "What he cannot help in his nature, you account a\n",
      "vice in him. You must in no way say he is covetous.\n",
      "\n",
      "First Citizen:\n",
      "If I must not, I need not be barren of accusations;\n",
      "he hath faults, with surplus, to tire in repetition.\n",
      "What shouts are these? The other side o' the city\n",
      "is risen: why stay we prating here? to the Capitol!\n",
      "\n",
      "All:\n",
      "Come, come.\n",
      "\n",
      "First Citizen:\n",
      "Soft! who comes here?\n",
      "\n",
      "Second Citizen:\n",
      "Worthy Menenius Agrippa; one that hath always loved\n",
      "the people.\n",
      "\n",
      "First Citizen:\n",
      "He's one honest enough: would all the rest were so!\n",
      "\n",
      "MENENIUS:\n",
      "What work's, my countrymen, in hand? where go you\n",
      "With bats and clubs? The matter? speak, I pray you.\n",
      "\n",
      "First Citizen:\n",
      "Our business is not unknown to the senate; they have\n",
      "had inkling this fortnight what we intend to do,\n",
      "which now we'll show 'em in deeds. They say poor\n",
      "suitors have strong breaths: they shall know we\n",
      "have strong arms too.\n",
      "\n",
      "MENENIUS:\n",
      "Why, masters, my good friends, mine honest neighbours,\n",
      "Will you undo yourselves?\n",
      "\n",
      "First Citizen:\n",
      "We cannot, sir, we are undone already.\n",
      "\n",
      "MENENIUS:\n",
      "I tell you, friends, most charitable care\n",
      "Have the patricians of you. For your wants,\n",
      "Your suffering in this dearth, you may as well\n",
      "Strike at the heaven with your\n",
      "******************************\n",
      "--\n",
      ".\n",
      "--\n",
      "\n",
      "\n",
      "--\n",
      " the\n",
      "--\n",
      " to\n",
      "--\n",
      " her\n",
      "--\n",
      " that\n",
      "--\n",
      ";\n",
      "--\n",
      "When\n"
     ]
    }
   ],
   "source": [
    "print(enc.decode(x[0,:-1].tolist()))\n",
    "print(\"***\" * 10)\n",
    "for i in range(x.size(0)):\n",
    "    print(\"--\")\n",
    "    print(enc.decode([x[i,-1].tolist()]))"
   ]
  }
 ],
 "metadata": {
  "kernelspec": {
   "display_name": "Python 3",
   "language": "python",
   "name": "python3"
  },
  "language_info": {
   "codemirror_mode": {
    "name": "ipython",
    "version": 3
   },
   "file_extension": ".py",
   "mimetype": "text/x-python",
   "name": "python",
   "nbconvert_exporter": "python",
   "pygments_lexer": "ipython3",
   "version": "3.12.2"
  }
 },
 "nbformat": 4,
 "nbformat_minor": 2
}
