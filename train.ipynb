{
 "cells": [
  {
   "cell_type": "code",
   "execution_count": 1,
   "metadata": {},
   "outputs": [],
   "source": [
    "import torch\n",
    "import tiktoken\n",
    "from torch.nn import functional as F"
   ]
  },
  {
   "cell_type": "code",
   "execution_count": 2,
   "metadata": {},
   "outputs": [
    {
     "name": "stdout",
     "output_type": "stream",
     "text": [
      "Using Compute Device: mps\n"
     ]
    }
   ],
   "source": [
    "computeDevice = torch.device(\"cpu\")\n",
    "if torch.cuda.is_available():\n",
    "    computeDevice = torch.device(\"cuda\")\n",
    "elif hasattr(torch.backends, \"mps\") and torch.backends.mps.is_available():\n",
    "    computeDevice = torch.device(\"mps\")\n",
    "    \n",
    "print(f\"Using Compute Device: {computeDevice}\")\n",
    "\n",
    "torch.set_float32_matmul_precision(\"high\")"
   ]
  },
  {
   "cell_type": "code",
   "execution_count": 3,
   "metadata": {},
   "outputs": [
    {
     "name": "stdout",
     "output_type": "stream",
     "text": [
      "1115394\n",
      "torch.Size([4, 32])\n",
      "torch.Size([4, 32])\n"
     ]
    }
   ],
   "source": [
    "enc = tiktoken.get_encoding('gpt2')\n",
    "with open('input.txt', 'r') as f:\n",
    "    text = f.read()\n",
    "\n",
    "print(len(text))\n",
    "trainText = text[:1000]\n",
    "tokens = enc.encode(trainText)\n",
    "\n",
    "B, T = 4, 32\n",
    "buf = torch.tensor(tokens[:B*T + 1], device=computeDevice)\n",
    "x = buf[:-1].view(B, T)\n",
    "y = buf[1:].view(B, T)\n",
    "\n",
    "print(x.shape)\n",
    "print(y.shape)"
   ]
  },
  {
   "cell_type": "code",
   "execution_count": 4,
   "metadata": {},
   "outputs": [
    {
     "name": "stdout",
     "output_type": "stream",
     "text": [
      "sys.version_info(major=3, minor=12, micro=2, releaselevel='final', serial=0)\n",
      "Cannot compile pytorch model, skipping .....\n"
     ]
    }
   ],
   "source": [
    "from train_gpt2 import GPT, GPTConfig\n",
    "import sys\n",
    "\n",
    "model = GPT(GPTConfig())\n",
    "model.to(computeDevice)\n",
    "\n",
    "if sys.version_info.major == 3 and sys.version_info.minor < 12:\n",
    "    model = torch.compile(model)\n",
    "else:\n",
    "    print(sys.version_info)\n",
    "    print(f\"Cannot compile pytorch model, skipping .....\")"
   ]
  },
  {
   "cell_type": "code",
   "execution_count": 5,
   "metadata": {},
   "outputs": [
    {
     "name": "stdout",
     "output_type": "stream",
     "text": [
      "torch.Size([4, 32, 50257])\n",
      "tensor(10.9181, device='mps:0')\n"
     ]
    }
   ],
   "source": [
    "with torch.no_grad():\n",
    "    logits, loss = model(x,y)\n",
    "    print(logits.shape)\n",
    "    print(loss)"
   ]
  },
  {
   "cell_type": "code",
   "execution_count": 6,
   "metadata": {},
   "outputs": [
    {
     "name": "stdout",
     "output_type": "stream",
     "text": [
      "Loaded 338025 tokens\n",
      "1 epoch = 82 batches\n"
     ]
    },
    {
     "name": "stderr",
     "output_type": "stream",
     "text": [
      "/Users/aj/.pyenv/versions/3.12.2/lib/python3.12/site-packages/tqdm/auto.py:21: TqdmWarning: IProgress not found. Please update jupyter and ipywidgets. See https://ipywidgets.readthedocs.io/en/stable/user_install.html\n",
      "  from .autonotebook import tqdm as notebook_tqdm\n"
     ]
    },
    {
     "name": "stdout",
     "output_type": "stream",
     "text": [
      "Step 0, loss: 10.957948684692383\n",
      "Step 1, loss: 9.534597396850586\n",
      "Step 2, loss: 9.366049766540527\n",
      "Step 3, loss: 8.861227035522461\n",
      "Step 4, loss: 8.649154663085938\n",
      "Step 5, loss: 8.298532485961914\n",
      "Step 6, loss: 8.101675987243652\n",
      "Step 7, loss: 7.852628707885742\n",
      "Step 8, loss: 7.723637580871582\n",
      "Step 9, loss: 7.465645790100098\n",
      "Step 10, loss: 7.46274471282959\n",
      "Step 11, loss: 7.470012664794922\n",
      "Step 12, loss: 7.515939712524414\n",
      "Step 13, loss: 7.453961372375488\n",
      "Step 14, loss: 7.065621376037598\n",
      "Step 15, loss: 7.075991153717041\n",
      "Step 16, loss: 6.921387672424316\n",
      "Step 17, loss: 6.7503509521484375\n",
      "Step 18, loss: 6.889780521392822\n",
      "Step 19, loss: 6.917164325714111\n",
      "Step 20, loss: 7.096864700317383\n",
      "Step 21, loss: 6.950870513916016\n",
      "Step 22, loss: 6.865862846374512\n",
      "Step 23, loss: 6.95159912109375\n",
      "Step 24, loss: 6.958200454711914\n",
      "Step 25, loss: 6.975041389465332\n",
      "Step 26, loss: 6.8002142906188965\n",
      "Step 27, loss: 6.859549522399902\n",
      "Step 28, loss: 6.8856000900268555\n",
      "Step 29, loss: 6.7339558601379395\n",
      "Step 30, loss: 6.712653160095215\n",
      "Step 31, loss: 6.650852203369141\n",
      "Step 32, loss: 6.708225250244141\n",
      "Step 33, loss: 6.776363849639893\n",
      "Step 34, loss: 6.77062463760376\n",
      "Step 35, loss: 6.757505416870117\n",
      "Step 36, loss: 6.560371398925781\n",
      "Step 37, loss: 6.710480690002441\n",
      "Step 38, loss: 6.536781311035156\n",
      "Step 39, loss: 6.399385929107666\n",
      "Step 40, loss: 6.4944353103637695\n",
      "Step 41, loss: 6.591868877410889\n",
      "Step 42, loss: 6.41253137588501\n",
      "Step 43, loss: 6.385085105895996\n",
      "Step 44, loss: 6.544036388397217\n",
      "Step 45, loss: 6.455877780914307\n",
      "Step 46, loss: 6.32301139831543\n",
      "Step 47, loss: 6.351494789123535\n",
      "Step 48, loss: 6.3520660400390625\n",
      "Step 49, loss: 6.266267776489258\n"
     ]
    }
   ],
   "source": [
    "from data_loader import DataLoaderLite\n",
    "\n",
    "torch.mps.empty_cache()\n",
    "torch.manual_seed(1337)\n",
    "\n",
    "# B, T = 16, 1024\n",
    "B, T = 8, 512\n",
    "# B, T = 4, 256\n",
    "dataset = DataLoaderLite(B, T)\n",
    "optimizer = torch.optim.AdamW(model.parameters(), lr=3e-4)\n",
    "losses = []\n",
    "for i in range(50):\n",
    "    optimizer.zero_grad()\n",
    "    x, y = dataset.next_batch()\n",
    "    x, y = x.to(computeDevice), y.to(computeDevice)\n",
    "    if torch.cuda.is_available():\n",
    "        with torch.autocast(device_type=computeDevice, dtype=torch.bfloat16):\n",
    "            logits, loss = model(x, y)\n",
    "    else:\n",
    "        logits, loss = model(x, y)\n",
    "    loss.backward()\n",
    "    optimizer.step()\n",
    "    print(f\"Step {i}, loss: {loss.item()}\")\n",
    "    losses.append(loss.item())\n"
   ]
  },
  {
   "cell_type": "code",
   "execution_count": 7,
   "metadata": {},
   "outputs": [
    {
     "data": {
      "text/plain": [
       "[<matplotlib.lines.Line2D at 0x54fc95160>]"
      ]
     },
     "execution_count": 7,
     "metadata": {},
     "output_type": "execute_result"
    },
    {
     "data": {
      "image/png": "[encoded data removed]",
      "text/plain": [
       "<Figure size 640x480 with 1 Axes>"
      ]
     },
     "metadata": {},
     "output_type": "display_data"
    }
   ],
   "source": [
    "import matplotlib.pyplot as plt\n",
    "\n",
    "plt.plot(losses)"
   ]
  },
  {
   "cell_type": "code",
   "execution_count": 8,
   "metadata": {},
   "outputs": [],
   "source": [
    "torch.mps.empty_cache() #GPUPoor\n",
    "\n",
    "evalText = text[1000:]\n",
    "evalData = enc.encode(evalText)\n",
    "B, maxT = 8, 512\n",
    "\n",
    "x = torch.tensor(evalData[:B * maxT], device=computeDevice)\n",
    "x = x.view(B, maxT)\n",
    "\n",
    "# evalText = \"Second Citizen:\\nWould you proceed especially against Caius Marcius?\"\n",
    "# evalData = enc.encode(evalText)\n",
    "# x = torch.tensor(evalData, device=computeDevice)\n",
    "# x = x.view(1, -1)\n",
    "\n",
    "with torch.no_grad():\n",
    "    logits, loss = model(x)\n",
    "    logits = logits[:,-1,:]\n",
    "    probs = F.softmax(logits, dim=-1)\n",
    "    # do top-k sampling of 50\n",
    "    topk_probs, topk_indices = torch.topk(probs, 50, dim=-1)\n",
    "    ix = torch.multinomial(topk_probs, 1) # (B,1)\n",
    "    xcol = torch.gather(topk_indices, -1, ix)\n",
    "    x = torch.cat((x, xcol), dim=1)"
   ]
  },
  {
   "cell_type": "code",
   "execution_count": 13,
   "metadata": {},
   "outputs": [
    {
     "name": "stdout",
     "output_type": "stream",
     "text": [
      "Second Citizen:\n",
      "Would you proceed especially against Caius Marcius?\n",
      "\n",
      "All:\n",
      "Against him first: he's a very dog to the commonalty.\n",
      "\n",
      "Second Citizen:\n",
      "Consider you what services he has done for his country?\n",
      "\n",
      "First Citizen:\n",
      "Very well; and could be content to give him good\n",
      "report fort, but that he pays himself with being proud.\n",
      "\n",
      "Second Citizen:\n",
      "Nay, but speak not maliciously.\n",
      "\n",
      "First Citizen:\n",
      "I say unto you, what he hath done famously, he did\n",
      "it to that end: though soft-conscienced men can be\n",
      "content to say it was for his country he did it to\n",
      "please his mother and to be partly proud; which he\n",
      "is, even till the altitude of his virtue.\n",
      "\n",
      "Second Citizen:\n",
      "What he cannot help in his nature, you account a\n",
      "vice in him. You must in no way say he is covetous.\n",
      "\n",
      "First Citizen:\n",
      "If I must not, I need not be barren of accusations;\n",
      "he hath faults, with surplus, to tire in repetition.\n",
      "What shouts are these? The other side o' the city\n",
      "is risen: why stay we prating here? to the Capitol!\n",
      "\n",
      "All:\n",
      "Come, come.\n",
      "\n",
      "First Citizen:\n",
      "Soft! who comes here?\n",
      "\n",
      "Second Citizen:\n",
      "Worthy Menenius Agrippa; one that hath always loved\n",
      "the people.\n",
      "\n",
      "First Citizen:\n",
      "He's one honest enough: would all the rest were so!\n",
      "\n",
      "MENENIUS:\n",
      "What work's, my countrymen, in hand? where go you\n",
      "With bats and clubs? The matter? speak, I pray you.\n",
      "\n",
      "First Citizen:\n",
      "Our business is not unknown to the senate; they have\n",
      "had inkling this fortnight what we intend to do,\n",
      "which now we'll show 'em in deeds. They say poor\n",
      "suitors have strong breaths: they shall know we\n",
      "have strong arms too.\n",
      "\n",
      "MENENIUS:\n",
      "Why, masters, my good friends, mine honest neighbours,\n",
      "Will you undo yourselves?\n",
      "\n",
      "First Citizen:\n",
      "We cannot, sir, we are undone already.\n",
      "\n",
      "MENENIUS:\n",
      "I tell you, friends, most charitable care\n",
      "Have the patricians of you. For your wants,\n",
      "Your suffering in this dearth, you may as well\n",
      "Strike at the heaven with your\n",
      "******************************\n",
      "--\n",
      " of\n",
      "--\n",
      " in\n",
      "--\n",
      ",\n",
      "--\n",
      " to\n",
      "--\n",
      " her\n",
      "--\n",
      " and\n",
      "--\n",
      " a\n",
      "--\n",
      "\n",
      "\n"
     ]
    }
   ],
   "source": [
    "print(enc.decode(x[0,:-1].tolist()))\n",
    "print(\"***\" * 10)\n",
    "for i in range(x.size(0)):\n",
    "    print(\"--\")\n",
    "    print(enc.decode([x[i,-1].tolist()]))"
   ]
  }
 ],
 "metadata": {
  "kernelspec": {
   "display_name": "Python 3",
   "language": "python",
   "name": "python3"
  },
  "language_info": {
   "codemirror_mode": {
    "name": "ipython",
    "version": 3
   },
   "file_extension": ".py",
   "mimetype": "text/x-python",
   "name": "python",
   "nbconvert_exporter": "python",
   "pygments_lexer": "ipython3",
   "version": "3.12.2"
  }
 },
 "nbformat": 4,
 "nbformat_minor": 2
}
