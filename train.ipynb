{
 "cells": [
  {
   "cell_type": "code",
   "execution_count": 19,
   "metadata": {},
   "outputs": [],
   "source": [
    "import torch\n",
    "import tiktoken\n",
    "from torch.nn import functional as F"
   ]
  },
  {
   "cell_type": "code",
   "execution_count": 20,
   "metadata": {},
   "outputs": [
    {
     "name": "stdout",
     "output_type": "stream",
     "text": [
      "Using Compute Device: mps\n"
     ]
    }
   ],
   "source": [
    "computeDevice = torch.device(\"cpu\")\n",
    "if torch.cuda.is_available():\n",
    "    computeDevice = torch.device(\"cuda\")\n",
    "elif hasattr(torch.backends, \"mps\") and torch.backends.mps.is_available():\n",
    "    computeDevice = torch.device(\"mps\")\n",
    "    \n",
    "print(f\"Using Compute Device: {computeDevice}\")\n",
    "\n",
    "torch.set_float32_matmul_precision(\"high\")"
   ]
  },
  {
   "cell_type": "code",
   "execution_count": 21,
   "metadata": {},
   "outputs": [
    {
     "name": "stdout",
     "output_type": "stream",
     "text": [
      "1115394\n",
      "torch.Size([4, 32])\n",
      "torch.Size([4, 32])\n"
     ]
    }
   ],
   "source": [
    "enc = tiktoken.get_encoding('gpt2')\n",
    "with open('input.txt', 'r') as f:\n",
    "    text = f.read()\n",
    "\n",
    "print(len(text))\n",
    "trainText = text[:1000]\n",
    "tokens = enc.encode(trainText)\n",
    "\n",
    "B, T = 4, 32\n",
    "buf = torch.tensor(tokens[:B*T + 1], device=computeDevice)\n",
    "x = buf[:-1].view(B, T)\n",
    "y = buf[1:].view(B, T)\n",
    "\n",
    "print(x.shape)\n",
    "print(y.shape)"
   ]
  },
  {
   "cell_type": "code",
   "execution_count": 22,
   "metadata": {},
   "outputs": [
    {
     "name": "stdout",
     "output_type": "stream",
     "text": [
      "sys.version_info(major=3, minor=12, micro=2, releaselevel='final', serial=0)\n",
      "Cannot compile pytorch model, skipping .....\n"
     ]
    }
   ],
   "source": [
    "from train_gpt2 import GPT, GPTConfig\n",
    "import sys\n",
    "\n",
    "model = GPT(GPTConfig(vocab_size=50304))\n",
    "model.to(computeDevice)\n",
    "\n",
    "if sys.version_info.major == 3 and sys.version_info.minor < 12:\n",
    "    model = torch.compile(model)\n",
    "else:\n",
    "    print(sys.version_info)\n",
    "    print(f\"Cannot compile pytorch model, skipping .....\")"
   ]
  },
  {
   "cell_type": "code",
   "execution_count": 23,
   "metadata": {},
   "outputs": [
    {
     "name": "stdout",
     "output_type": "stream",
     "text": [
      "torch.Size([4, 32, 50304])\n",
      "tensor(10.9521, device='mps:0')\n"
     ]
    }
   ],
   "source": [
    "with torch.no_grad():\n",
    "    logits, loss = model(x,y)\n",
    "    print(logits.shape)\n",
    "    print(loss)"
   ]
  },
  {
   "cell_type": "code",
   "execution_count": null,
   "metadata": {},
   "outputs": [],
   "source": [
    "# Cosine learning rate with warm up"
   ]
  },
  {
   "cell_type": "code",
   "execution_count": 24,
   "metadata": {},
   "outputs": [
    {
     "name": "stdout",
     "output_type": "stream",
     "text": [
      "Loaded 338025 tokens\n",
      "1 epoch = 82 batches\n",
      "Step    0 | loss: 10.928757 | norm: 30.4258 | dt: 2858.26ms | tok/sec: 1433.04\n",
      "Step    1 | loss: 9.511612 | norm: 6.1820 | dt: 2756.15ms | tok/sec: 1486.13\n",
      "Step    2 | loss: 9.002340 | norm: 2.3709 | dt: 2737.09ms | tok/sec: 1496.48\n",
      "Step    3 | loss: 8.802098 | norm: 4.1313 | dt: 2721.96ms | tok/sec: 1504.80\n",
      "Step    4 | loss: 8.388184 | norm: 2.4516 | dt: 2764.86ms | tok/sec: 1481.45\n",
      "Step    5 | loss: 7.979677 | norm: 2.5404 | dt: 2768.94ms | tok/sec: 1479.26\n",
      "Step    6 | loss: 7.888886 | norm: 2.2775 | dt: 2759.39ms | tok/sec: 1484.39\n",
      "Step    7 | loss: 7.658165 | norm: 1.8512 | dt: 2786.78ms | tok/sec: 1469.80\n",
      "Step    8 | loss: 7.560284 | norm: 1.6844 | dt: 2815.75ms | tok/sec: 1454.68\n",
      "Step    9 | loss: 7.276411 | norm: 1.5502 | dt: 2791.22ms | tok/sec: 1467.46\n",
      "Step   10 | loss: 7.299589 | norm: 1.6926 | dt: 2803.21ms | tok/sec: 1461.18\n",
      "Step   11 | loss: 7.220587 | norm: 1.4248 | dt: 2816.83ms | tok/sec: 1454.12\n",
      "Step   12 | loss: 7.266456 | norm: 2.1506 | dt: 2856.56ms | tok/sec: 1433.89\n",
      "Step   13 | loss: 7.165931 | norm: 1.3521 | dt: 2793.55ms | tok/sec: 1466.23\n",
      "Step   14 | loss: 6.806657 | norm: 1.9165 | dt: 2790.23ms | tok/sec: 1467.98\n",
      "Step   15 | loss: 6.786963 | norm: 1.3378 | dt: 2816.08ms | tok/sec: 1454.50\n",
      "Step   16 | loss: 6.678537 | norm: 4.2938 | dt: 2817.42ms | tok/sec: 1453.81\n",
      "Step   17 | loss: 6.437397 | norm: 1.1559 | dt: 2836.15ms | tok/sec: 1444.21\n",
      "Step   18 | loss: 6.617049 | norm: 1.6392 | dt: 2857.01ms | tok/sec: 1433.67\n",
      "Step   19 | loss: 6.602571 | norm: 1.1096 | dt: 2797.20ms | tok/sec: 1464.32\n",
      "Step   20 | loss: 6.806824 | norm: 1.4244 | dt: 2776.17ms | tok/sec: 1475.41\n",
      "Step   21 | loss: 6.591904 | norm: 1.7179 | dt: 2809.60ms | tok/sec: 1457.86\n",
      "Step   22 | loss: 6.562889 | norm: 0.8539 | dt: 2809.60ms | tok/sec: 1457.86\n",
      "Step   23 | loss: 6.682660 | norm: 1.4901 | dt: 2839.00ms | tok/sec: 1442.76\n",
      "Step   24 | loss: 6.714660 | norm: 1.3564 | dt: 2787.34ms | tok/sec: 1469.50\n",
      "Step   25 | loss: 6.665428 | norm: 0.8612 | dt: 2802.52ms | tok/sec: 1461.54\n",
      "Step   26 | loss: 6.515862 | norm: 1.2858 | dt: 2801.76ms | tok/sec: 1461.94\n",
      "Step   27 | loss: 6.556175 | norm: 1.1715 | dt: 2835.17ms | tok/sec: 1444.71\n",
      "Step   28 | loss: 6.548484 | norm: 0.8897 | dt: 2833.13ms | tok/sec: 1445.75\n",
      "Step   29 | loss: 6.405096 | norm: 1.2279 | dt: 2777.55ms | tok/sec: 1474.68\n",
      "Step   30 | loss: 6.307992 | norm: 1.1234 | dt: 2849.28ms | tok/sec: 1437.55\n",
      "Step   31 | loss: 6.230599 | norm: 1.1026 | dt: 2787.30ms | tok/sec: 1469.52\n",
      "Step   32 | loss: 6.304115 | norm: 1.1803 | dt: 2812.44ms | tok/sec: 1456.39\n",
      "Step   33 | loss: 6.464360 | norm: 1.1922 | dt: 2800.08ms | tok/sec: 1462.82\n",
      "Step   34 | loss: 6.455881 | norm: 0.9581 | dt: 2850.81ms | tok/sec: 1436.78\n",
      "Step   35 | loss: 6.450997 | norm: 1.4751 | dt: 2815.89ms | tok/sec: 1454.60\n",
      "Step   36 | loss: 6.239595 | norm: 1.2450 | dt: 2777.90ms | tok/sec: 1474.50\n",
      "Step   37 | loss: 6.427658 | norm: 1.2255 | dt: 2758.83ms | tok/sec: 1484.69\n",
      "Step   38 | loss: 6.229082 | norm: 0.9938 | dt: 2790.48ms | tok/sec: 1467.85\n",
      "Step   39 | loss: 6.057622 | norm: 1.0943 | dt: 2807.62ms | tok/sec: 1458.89\n",
      "Step   40 | loss: 6.168343 | norm: 1.1580 | dt: 2794.75ms | tok/sec: 1465.60\n",
      "Step   41 | loss: 6.266012 | norm: 1.1904 | dt: 2738.85ms | tok/sec: 1495.52\n",
      "Step   42 | loss: 6.119053 | norm: 1.1979 | dt: 2835.77ms | tok/sec: 1444.40\n",
      "Step   43 | loss: 6.102076 | norm: 1.0726 | dt: 2787.99ms | tok/sec: 1469.16\n",
      "Step   44 | loss: 6.257727 | norm: 1.2698 | dt: 2804.17ms | tok/sec: 1460.68\n",
      "Step   45 | loss: 6.153847 | norm: 1.1236 | dt: 2839.73ms | tok/sec: 1442.39\n",
      "Step   46 | loss: 5.996015 | norm: 0.7804 | dt: 2766.48ms | tok/sec: 1480.58\n",
      "Step   47 | loss: 6.031034 | norm: 1.1267 | dt: 2806.59ms | tok/sec: 1459.42\n",
      "Step   48 | loss: 6.050451 | norm: 1.0862 | dt: 2832.37ms | tok/sec: 1446.14\n",
      "Step   49 | loss: 5.930440 | norm: 0.9042 | dt: 2838.24ms | tok/sec: 1443.15\n"
     ]
    }
   ],
   "source": [
    "from data_loader import DataLoaderLite\n",
    "import time\n",
    "\n",
    "torch.mps.empty_cache()\n",
    "torch.manual_seed(1337)\n",
    "\n",
    "# B, T = 16, 1024\n",
    "B, T = 4, 1024\n",
    "# B, T = 4, 256\n",
    "dataset = DataLoaderLite(B, T)\n",
    "optimizer = torch.optim.AdamW(model.parameters(), lr=3e-4, betas=(0.9, 0.95), eps=1e-8)\n",
    "losses = []\n",
    "for i in range(50):\n",
    "    t0 = time.time()\n",
    "    x, y = dataset.next_batch()\n",
    "    x, y = x.to(computeDevice), y.to(computeDevice)\n",
    "\n",
    "    optimizer.zero_grad()\n",
    "    if torch.cuda.is_available():\n",
    "        with torch.autocast(device_type=computeDevice, dtype=torch.bfloat16):\n",
    "            logits, loss = model(x, y)\n",
    "    else:\n",
    "        logits, loss = model(x, y)\n",
    "    loss.backward()\n",
    "\n",
    "    norm = torch.nn.utils.clip_grad_norm_(model.parameters(), 1.0)\n",
    "    optimizer.step()\n",
    "\n",
    "    t1 = time.time()\n",
    "    dt = t1 - t0 # time difference in seconds\n",
    "    tokens_processed = dataset.B * dataset.T\n",
    "    tokens_per_sec = tokens_processed / dt\n",
    "\n",
    "    print(f\"Step {i:4d} | loss: {loss.item():.6f} | norm: {norm:.4f} | dt: {dt*1000:.2f}ms | tok/sec: {tokens_per_sec:.2f}\")\n",
    "    losses.append(loss.item())\n"
   ]
  },
  {
   "cell_type": "code",
   "execution_count": 25,
   "metadata": {},
   "outputs": [
    {
     "data": {
      "text/plain": [
       "[<matplotlib.lines.Line2D at 0x12fdde810>]"
      ]
     },
     "execution_count": 25,
     "metadata": {},
     "output_type": "execute_result"
    },
    {
     "data": {
      "image/png": "[encoded data removed]",
      "text/plain": [
       "<Figure size 640x480 with 1 Axes>"
      ]
     },
     "metadata": {},
     "output_type": "display_data"
    }
   ],
   "source": [
    "import matplotlib.pyplot as plt\n",
    "\n",
    "plt.plot(losses)"
   ]
  },
  {
   "cell_type": "code",
   "execution_count": 26,
   "metadata": {},
   "outputs": [],
   "source": [
    "torch.mps.empty_cache() #GPUPoor\n",
    "\n",
    "evalText = text[1000:]\n",
    "evalData = enc.encode(evalText)\n",
    "B, maxT = 8, 512\n",
    "\n",
    "x = torch.tensor(evalData[:B * maxT], device=computeDevice)\n",
    "x = x.view(B, maxT)\n",
    "\n",
    "# evalText = \"Second Citizen:\\nWould you proceed especially against Caius Marcius?\"\n",
    "# evalData = enc.encode(evalText)\n",
    "# x = torch.tensor(evalData, device=computeDevice)\n",
    "# x = x.view(1, -1)\n",
    "\n",
    "with torch.no_grad():\n",
    "    logits, loss = model(x)\n",
    "    logits = logits[:,-1,:]\n",
    "    probs = F.softmax(logits, dim=-1)\n",
    "    # do top-k sampling of 50\n",
    "    topk_probs, topk_indices = torch.topk(probs, 50, dim=-1)\n",
    "    ix = torch.multinomial(topk_probs, 1) # (B,1)\n",
    "    xcol = torch.gather(topk_indices, -1, ix)\n",
    "    x = torch.cat((x, xcol), dim=1)"
   ]
  },
  {
   "cell_type": "code",
   "execution_count": 27,
   "metadata": {},
   "outputs": [
    {
     "name": "stdout",
     "output_type": "stream",
     "text": [
      "Second Citizen:\n",
      "Would you proceed especially against Caius Marcius?\n",
      "\n",
      "All:\n",
      "Against him first: he's a very dog to the commonalty.\n",
      "\n",
      "Second Citizen:\n",
      "Consider you what services he has done for his country?\n",
      "\n",
      "First Citizen:\n",
      "Very well; and could be content to give him good\n",
      "report fort, but that he pays himself with being proud.\n",
      "\n",
      "Second Citizen:\n",
      "Nay, but speak not maliciously.\n",
      "\n",
      "First Citizen:\n",
      "I say unto you, what he hath done famously, he did\n",
      "it to that end: though soft-conscienced men can be\n",
      "content to say it was for his country he did it to\n",
      "please his mother and to be partly proud; which he\n",
      "is, even till the altitude of his virtue.\n",
      "\n",
      "Second Citizen:\n",
      "What he cannot help in his nature, you account a\n",
      "vice in him. You must in no way say he is covetous.\n",
      "\n",
      "First Citizen:\n",
      "If I must not, I need not be barren of accusations;\n",
      "he hath faults, with surplus, to tire in repetition.\n",
      "What shouts are these? The other side o' the city\n",
      "is risen: why stay we prating here? to the Capitol!\n",
      "\n",
      "All:\n",
      "Come, come.\n",
      "\n",
      "First Citizen:\n",
      "Soft! who comes here?\n",
      "\n",
      "Second Citizen:\n",
      "Worthy Menenius Agrippa; one that hath always loved\n",
      "the people.\n",
      "\n",
      "First Citizen:\n",
      "He's one honest enough: would all the rest were so!\n",
      "\n",
      "MENENIUS:\n",
      "What work's, my countrymen, in hand? where go you\n",
      "With bats and clubs? The matter? speak, I pray you.\n",
      "\n",
      "First Citizen:\n",
      "Our business is not unknown to the senate; they have\n",
      "had inkling this fortnight what we intend to do,\n",
      "which now we'll show 'em in deeds. They say poor\n",
      "suitors have strong breaths: they shall know we\n",
      "have strong arms too.\n",
      "\n",
      "MENENIUS:\n",
      "Why, masters, my good friends, mine honest neighbours,\n",
      "Will you undo yourselves?\n",
      "\n",
      "First Citizen:\n",
      "We cannot, sir, we are undone already.\n",
      "\n",
      "MENENIUS:\n",
      "I tell you, friends, most charitable care\n",
      "Have the patricians of you. For your wants,\n",
      "Your suffering in this dearth, you may as well\n",
      "Strike at the heaven with your\n",
      "******************************\n",
      "--\n",
      ".\n",
      "--\n",
      "\n",
      "\n",
      "--\n",
      " the\n",
      "--\n",
      " to\n",
      "--\n",
      " her\n",
      "--\n",
      " that\n",
      "--\n",
      ";\n",
      "--\n",
      "When\n"
     ]
    }
   ],
   "source": [
    "print(enc.decode(x[0,:-1].tolist()))\n",
    "print(\"***\" * 10)\n",
    "for i in range(x.size(0)):\n",
    "    print(\"--\")\n",
    "    print(enc.decode([x[i,-1].tolist()]))"
   ]
  }
 ],
 "metadata": {
  "kernelspec": {
   "display_name": "Python 3",
   "language": "python",
   "name": "python3"
  },
  "language_info": {
   "codemirror_mode": {
    "name": "ipython",
    "version": 3
   },
   "file_extension": ".py",
   "mimetype": "text/x-python",
   "name": "python",
   "nbconvert_exporter": "python",
   "pygments_lexer": "ipython3",
   "version": "3.12.2"
  }
 },
 "nbformat": 4,
 "nbformat_minor": 2
}
