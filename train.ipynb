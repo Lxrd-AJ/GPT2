{
 "cells": [
  {
   "cell_type": "code",
   "execution_count": 1,
   "metadata": {},
   "outputs": [],
   "source": [
    "import torch\n",
    "import tiktoken\n",
    "from torch.nn import functional as F"
   ]
  },
  {
   "cell_type": "code",
   "execution_count": 2,
   "metadata": {},
   "outputs": [
    {
     "name": "stdout",
     "output_type": "stream",
     "text": [
      "Using Compute Device: mps\n"
     ]
    }
   ],
   "source": [
    "computeDevice = torch.device(\"cpu\")\n",
    "if torch.cuda.is_available():\n",
    "    computeDevice = torch.device(\"cuda\")\n",
    "elif hasattr(torch.backends, \"mps\") and torch.backends.mps.is_available():\n",
    "    computeDevice = torch.device(\"mps\")\n",
    "    \n",
    "print(f\"Using Compute Device: {computeDevice}\")\n",
    "\n",
    "torch.set_float32_matmul_precision(\"high\")"
   ]
  },
  {
   "cell_type": "code",
   "execution_count": 3,
   "metadata": {},
   "outputs": [
    {
     "name": "stdout",
     "output_type": "stream",
     "text": [
      "1115394\n",
      "torch.Size([4, 32])\n",
      "torch.Size([4, 32])\n"
     ]
    }
   ],
   "source": [
    "enc = tiktoken.get_encoding('gpt2')\n",
    "with open('input.txt', 'r') as f:\n",
    "    text = f.read()\n",
    "\n",
    "print(len(text))\n",
    "trainText = text[:1000]\n",
    "tokens = enc.encode(trainText)\n",
    "\n",
    "B, T = 4, 32\n",
    "buf = torch.tensor(tokens[:B*T + 1], device=computeDevice)\n",
    "x = buf[:-1].view(B, T)\n",
    "y = buf[1:].view(B, T)\n",
    "\n",
    "print(x.shape)\n",
    "print(y.shape) "
   ]
  },
  {
   "cell_type": "code",
   "execution_count": 4,
   "metadata": {},
   "outputs": [
    {
     "name": "stdout",
     "output_type": "stream",
     "text": [
      "sys.version_info(major=3, minor=12, micro=2, releaselevel='final', serial=0)\n",
      "Cannot compile pytorch model, skipping .....\n"
     ]
    }
   ],
   "source": [
    "from train_gpt2 import GPT, GPTConfig\n",
    "import sys\n",
    "\n",
    "model = GPT(GPTConfig(vocab_size=50304))\n",
    "model.to(computeDevice)\n",
    "\n",
    "if sys.version_info.major == 3 and sys.version_info.minor < 12:\n",
    "    model = torch.compile(model)\n",
    "else:\n",
    "    print(sys.version_info)\n",
    "    print(f\"Cannot compile pytorch model, skipping .....\")"
   ]
  },
  {
   "cell_type": "code",
   "execution_count": 5,
   "metadata": {},
   "outputs": [
    {
     "name": "stdout",
     "output_type": "stream",
     "text": [
      "torch.Size([4, 32, 50304])\n",
      "tensor(10.8994, device='mps:0')\n"
     ]
    }
   ],
   "source": [
    "with torch.no_grad():\n",
    "    logits, loss = model(x,y)\n",
    "    print(logits.shape)\n",
    "    print(loss)"
   ]
  },
  {
   "cell_type": "code",
   "execution_count": 6,
   "metadata": {},
   "outputs": [],
   "source": [
    "import math\n",
    "\n",
    "# Cosine learning rate with warm up\n",
    "max_lr = 6e-4\n",
    "min_lr = max_lr * 0.1\n",
    "warmup_steps = 10\n",
    "max_steps = 50\n",
    "\n",
    "def get_lr(it):\n",
    "    # 1 - Linear warmip for warmip_iters steps\n",
    "    if it < warmup_steps:\n",
    "        return max_lr * (it+1) / warmup_steps\n",
    "\n",
    "    # 2 - If it > lr_decay_iters, return min learning rate\n",
    "    if it > max_steps:\n",
    "        return min_lr\n",
    "\n",
    "    # 3 - In between, use cosine decay down to min learning rate\n",
    "    decay_ratio = (it - warmup_steps) / (max_steps - warmup_steps)\n",
    "    assert 0 <= decay_ratio <= 1\n",
    "    coeff = 0.5 * (1.0 + math.cos(math.pi * decay_ratio)) # coeff starts at 1 and goes to 0\n",
    "    return min_lr + coeff * (max_lr - min_lr)"
   ]
  },
  {
   "cell_type": "code",
   "execution_count": 7,
   "metadata": {},
   "outputs": [
    {
     "name": "stdout",
     "output_type": "stream",
     "text": [
      "Loaded 338025 tokens\n",
      "1 epoch = 82 batches\n",
      "num decayed parameter tensors: 50, with 124,354,560 parameters\n",
      "num non-decayed parameter tensors: 98, with 121,344 parameters\n",
      "Using fused AdamW: False, inspect check: True\n"
     ]
    },
    {
     "name": "stderr",
     "output_type": "stream",
     "text": [
      "/Users/aj/.pyenv/versions/3.12.2/lib/python3.12/site-packages/tqdm/auto.py:21: TqdmWarning: IProgress not found. Please update jupyter and ipywidgets. See https://ipywidgets.readthedocs.io/en/stable/user_install.html\n",
      "  from .autonotebook import tqdm as notebook_tqdm\n"
     ]
    },
    {
     "name": "stdout",
     "output_type": "stream",
     "text": [
      "Step    0 | loss: 10.940382 | lr: 6.0000e-05 | norm: 28.4366 | dt: 2960.50ms | tok/sec: 1383.55\n",
      "Step    1 | loss: 9.536893 | lr: 1.2000e-04 | norm: 5.2991 | dt: 3063.49ms | tok/sec: 1337.04\n",
      "Step    2 | loss: 8.801343 | lr: 1.8000e-04 | norm: 2.6922 | dt: 2782.47ms | tok/sec: 1472.07\n",
      "Step    3 | loss: 8.576792 | lr: 2.4000e-04 | norm: 8.4336 | dt: 2783.09ms | tok/sec: 1471.75\n",
      "Step    4 | loss: 7.930079 | lr: 3.0000e-04 | norm: 2.5684 | dt: 2745.98ms | tok/sec: 1491.64\n",
      "Step    5 | loss: 7.418293 | lr: 3.6000e-04 | norm: 2.9265 | dt: 2801.72ms | tok/sec: 1461.96\n",
      "Step    6 | loss: 7.138327 | lr: 4.2000e-04 | norm: 1.5244 | dt: 2769.36ms | tok/sec: 1479.04\n",
      "Step    7 | loss: 6.841079 | lr: 4.8000e-04 | norm: 1.9248 | dt: 2758.87ms | tok/sec: 1484.67\n",
      "Step    8 | loss: 6.724671 | lr: 5.4000e-04 | norm: 1.1925 | dt: 2762.25ms | tok/sec: 1482.85\n",
      "Step    9 | loss: 6.426198 | lr: 6.0000e-04 | norm: 1.2688 | dt: 2790.11ms | tok/sec: 1468.05\n",
      "Step   10 | loss: 6.523280 | lr: 6.0000e-04 | norm: 1.1403 | dt: 2763.03ms | tok/sec: 1482.43\n",
      "Step   11 | loss: 6.737231 | lr: 5.9917e-04 | norm: 0.9573 | dt: 2760.99ms | tok/sec: 1483.53\n",
      "Step   12 | loss: 7.047129 | lr: 5.9668e-04 | norm: 1.4180 | dt: 2815.89ms | tok/sec: 1454.60\n",
      "Step   13 | loss: 6.991627 | lr: 5.9254e-04 | norm: 2.0135 | dt: 2806.88ms | tok/sec: 1459.27\n",
      "Step   14 | loss: 6.798158 | lr: 5.8679e-04 | norm: 3.3765 | dt: 2791.69ms | tok/sec: 1467.21\n",
      "Step   15 | loss: 6.800171 | lr: 5.7945e-04 | norm: 2.9118 | dt: 2788.45ms | tok/sec: 1468.92\n",
      "Step   16 | loss: 6.670010 | lr: 5.7057e-04 | norm: 2.0970 | dt: 2770.80ms | tok/sec: 1478.28\n",
      "Step   17 | loss: 6.435483 | lr: 5.6021e-04 | norm: 1.4896 | dt: 2804.18ms | tok/sec: 1460.68\n",
      "Step   18 | loss: 6.653856 | lr: 5.4843e-04 | norm: 1.8141 | dt: 2817.19ms | tok/sec: 1453.93\n",
      "Step   19 | loss: 6.681753 | lr: 5.3531e-04 | norm: 1.9345 | dt: 2812.51ms | tok/sec: 1456.35\n",
      "Step   20 | loss: 6.843158 | lr: 5.2092e-04 | norm: 3.9511 | dt: 2814.21ms | tok/sec: 1455.47\n",
      "Step   21 | loss: 6.753682 | lr: 5.0535e-04 | norm: 2.1493 | dt: 2753.29ms | tok/sec: 1487.67\n",
      "Step   22 | loss: 6.736304 | lr: 4.8870e-04 | norm: 1.8421 | dt: 2783.73ms | tok/sec: 1471.41\n",
      "Step   23 | loss: 6.787747 | lr: 4.7107e-04 | norm: 1.3803 | dt: 2762.11ms | tok/sec: 1482.92\n",
      "Step   24 | loss: 6.785184 | lr: 4.5258e-04 | norm: 1.7464 | dt: 2846.01ms | tok/sec: 1439.21\n",
      "Step   25 | loss: 6.737863 | lr: 4.3332e-04 | norm: 1.3238 | dt: 2802.64ms | tok/sec: 1461.48\n",
      "Step   26 | loss: 6.572399 | lr: 4.1343e-04 | norm: 1.4731 | dt: 2794.04ms | tok/sec: 1465.98\n",
      "Step   27 | loss: 6.592937 | lr: 3.9303e-04 | norm: 0.9642 | dt: 2829.57ms | tok/sec: 1447.57\n",
      "Step   28 | loss: 6.601294 | lr: 3.7224e-04 | norm: 1.1681 | dt: 2820.67ms | tok/sec: 1452.14\n",
      "Step   29 | loss: 6.395158 | lr: 3.5118e-04 | norm: 1.0393 | dt: 2787.42ms | tok/sec: 1469.46\n",
      "Step   30 | loss: 6.298701 | lr: 3.3000e-04 | norm: 1.0691 | dt: 2802.03ms | tok/sec: 1461.80\n",
      "Step   31 | loss: 6.188507 | lr: 3.0882e-04 | norm: 1.1263 | dt: 2811.80ms | tok/sec: 1456.72\n",
      "Step   32 | loss: 6.450087 | lr: 2.8776e-04 | norm: 1.1579 | dt: 2807.58ms | tok/sec: 1458.91\n",
      "Step   33 | loss: 6.605360 | lr: 2.6697e-04 | norm: 4.0648 | dt: 2814.45ms | tok/sec: 1455.34\n",
      "Step   34 | loss: 6.616830 | lr: 2.4657e-04 | norm: 1.6665 | dt: 2787.82ms | tok/sec: 1469.25\n",
      "Step   35 | loss: 6.637775 | lr: 2.2668e-04 | norm: 1.4377 | dt: 2815.18ms | tok/sec: 1454.97\n",
      "Step   36 | loss: 6.445245 | lr: 2.0742e-04 | norm: 1.1779 | dt: 2757.64ms | tok/sec: 1485.33\n",
      "Step   37 | loss: 6.561245 | lr: 1.8893e-04 | norm: 1.1765 | dt: 2810.19ms | tok/sec: 1457.55\n",
      "Step   38 | loss: 6.356315 | lr: 1.7130e-04 | norm: 1.2023 | dt: 2771.26ms | tok/sec: 1478.03\n",
      "Step   39 | loss: 6.176913 | lr: 1.5465e-04 | norm: 0.9998 | dt: 2789.62ms | tok/sec: 1468.30\n",
      "Step   40 | loss: 6.261162 | lr: 1.3908e-04 | norm: 1.3508 | dt: 2828.57ms | tok/sec: 1448.08\n",
      "Step   41 | loss: 6.341345 | lr: 1.2469e-04 | norm: 1.2018 | dt: 2802.06ms | tok/sec: 1461.78\n",
      "Step   42 | loss: 6.212337 | lr: 1.1157e-04 | norm: 1.2958 | dt: 2825.98ms | tok/sec: 1449.41\n",
      "Step   43 | loss: 6.169781 | lr: 9.9787e-05 | norm: 1.0150 | dt: 2782.59ms | tok/sec: 1472.01\n",
      "Step   44 | loss: 6.351755 | lr: 8.9428e-05 | norm: 1.1208 | dt: 2787.64ms | tok/sec: 1469.34\n",
      "Step   45 | loss: 6.243158 | lr: 8.0553e-05 | norm: 0.9145 | dt: 2800.80ms | tok/sec: 1462.44\n",
      "Step   46 | loss: 6.090092 | lr: 7.3215e-05 | norm: 0.7681 | dt: 2814.27ms | tok/sec: 1455.44\n",
      "Step   47 | loss: 6.124529 | lr: 6.7460e-05 | norm: 1.2957 | dt: 2828.58ms | tok/sec: 1448.08\n",
      "Step   48 | loss: 6.130909 | lr: 6.3324e-05 | norm: 1.0571 | dt: 2776.38ms | tok/sec: 1475.30\n",
      "Step   49 | loss: 6.048765 | lr: 6.0832e-05 | norm: 0.9133 | dt: 2938.45ms | tok/sec: 1393.93\n"
     ]
    }
   ],
   "source": [
    "from data_loader import DataLoaderLite\n",
    "import time\n",
    "\n",
    "torch.mps.empty_cache()\n",
    "torch.manual_seed(1337)\n",
    "\n",
    "# B, T = 16, 1024\n",
    "B, T = 4, 1024\n",
    "\n",
    "dataset = DataLoaderLite(B, T)\n",
    "# optimizer = torch.optim.AdamW(model.parameters(), lr=3e-4, betas=(0.9, 0.95), eps=1e-8)\n",
    "optimizer = model.configure_optimizers(weight_decay=0.1, learning_rate=6e-4, device=computeDevice)\n",
    "\n",
    "losses = []\n",
    "learn_rates = []\n",
    "for step in range(max_steps):\n",
    "    t0 = time.time()\n",
    "    x, y = dataset.next_batch()\n",
    "    x, y = x.to(computeDevice), y.to(computeDevice)\n",
    "\n",
    "    optimizer.zero_grad()\n",
    "    if torch.cuda.is_available():\n",
    "        with torch.autocast(device_type=computeDevice, dtype=torch.bfloat16):\n",
    "            logits, loss = model(x, y)\n",
    "    else:\n",
    "        logits, loss = model(x, y)\n",
    "    loss.backward()\n",
    "\n",
    "    norm = torch.nn.utils.clip_grad_norm_(model.parameters(), 1.0)\n",
    "    lr = get_lr(step)\n",
    "    learn_rates.append(lr)\n",
    "    for param_group in optimizer.param_groups:\n",
    "        param_group[lr] = lr\n",
    "    optimizer.step()\n",
    "\n",
    "    t1 = time.time()\n",
    "    dt = t1 - t0 # time difference in seconds\n",
    "    tokens_processed = dataset.B * dataset.T\n",
    "    tokens_per_sec = tokens_processed / dt\n",
    "\n",
    "    print(f\"Step {step:4d} | loss: {loss.item():.6f} | lr: {lr:.4e} | norm: {norm:.4f} | dt: {dt*1000:.2f}ms | tok/sec: {tokens_per_sec:.2f}\")\n",
    "    losses.append(loss.item())\n"
   ]
  },
  {
   "cell_type": "code",
   "execution_count": 8,
   "metadata": {},
   "outputs": [
    {
     "data": {
      "text/plain": [
       "[<matplotlib.lines.Line2D at 0x1683216a0>]"
      ]
     },
     "execution_count": 8,
     "metadata": {},
     "output_type": "execute_result"
    },
    {
     "data": {
      "image/png": "[encoded data removed]",
      "text/plain": [
       "<Figure size 1500x550 with 2 Axes>"
      ]
     },
     "metadata": {},
     "output_type": "display_data"
    }
   ],
   "source": [
    "import matplotlib.pyplot as plt\n",
    "\n",
    "fig, axs = plt.subplots(1, 2)\n",
    "fig.set_figwidth(15)\n",
    "fig.set_figheight(5.5)\n",
    "\n",
    "axs[0].plot(losses)\n",
    "axs[1].plot(learn_rates)"
   ]
  },
  {
   "cell_type": "code",
   "execution_count": 9,
   "metadata": {},
   "outputs": [],
   "source": [
    "torch.mps.empty_cache() #GPUPoor\n",
    "\n",
    "evalText = text[1000:]\n",
    "evalData = enc.encode(evalText)\n",
    "B, maxT = 8, 512\n",
    "\n",
    "x = torch.tensor(evalData[:B * maxT], device=computeDevice)\n",
    "x = x.view(B, maxT)\n",
    "\n",
    "# evalText = \"Second Citizen:\\nWould you proceed especially against Caius Marcius?\"\n",
    "# evalData = enc.encode(evalText)\n",
    "# x = torch.tensor(evalData, device=computeDevice)\n",
    "# x = x.view(1, -1)\n",
    "\n",
    "with torch.no_grad():\n",
    "    logits, loss = model(x)\n",
    "    logits = logits[:,-1,:]\n",
    "    probs = F.softmax(logits, dim=-1)\n",
    "    # do top-k sampling of 50\n",
    "    topk_probs, topk_indices = torch.topk(probs, 50, dim=-1)\n",
    "    ix = torch.multinomial(topk_probs, 1) # (B,1)\n",
    "    xcol = torch.gather(topk_indices, -1, ix)\n",
    "    x = torch.cat((x, xcol), dim=1)"
   ]
  },
  {
   "cell_type": "code",
   "execution_count": 10,
   "metadata": {},
   "outputs": [
    {
     "name": "stdout",
     "output_type": "stream",
     "text": [
      "Second Citizen:\n",
      "Would you proceed especially against Caius Marcius?\n",
      "\n",
      "All:\n",
      "Against him first: he's a very dog to the commonalty.\n",
      "\n",
      "Second Citizen:\n",
      "Consider you what services he has done for his country?\n",
      "\n",
      "First Citizen:\n",
      "Very well; and could be content to give him good\n",
      "report fort, but that he pays himself with being proud.\n",
      "\n",
      "Second Citizen:\n",
      "Nay, but speak not maliciously.\n",
      "\n",
      "First Citizen:\n",
      "I say unto you, what he hath done famously, he did\n",
      "it to that end: though soft-conscienced men can be\n",
      "content to say it was for his country he did it to\n",
      "please his mother and to be partly proud; which he\n",
      "is, even till the altitude of his virtue.\n",
      "\n",
      "Second Citizen:\n",
      "What he cannot help in his nature, you account a\n",
      "vice in him. You must in no way say he is covetous.\n",
      "\n",
      "First Citizen:\n",
      "If I must not, I need not be barren of accusations;\n",
      "he hath faults, with surplus, to tire in repetition.\n",
      "What shouts are these? The other side o' the city\n",
      "is risen: why stay we prating here? to the Capitol!\n",
      "\n",
      "All:\n",
      "Come, come.\n",
      "\n",
      "First Citizen:\n",
      "Soft! who comes here?\n",
      "\n",
      "Second Citizen:\n",
      "Worthy Menenius Agrippa; one that hath always loved\n",
      "the people.\n",
      "\n",
      "First Citizen:\n",
      "He's one honest enough: would all the rest were so!\n",
      "\n",
      "MENENIUS:\n",
      "What work's, my countrymen, in hand? where go you\n",
      "With bats and clubs? The matter? speak, I pray you.\n",
      "\n",
      "First Citizen:\n",
      "Our business is not unknown to the senate; they have\n",
      "had inkling this fortnight what we intend to do,\n",
      "which now we'll show 'em in deeds. They say poor\n",
      "suitors have strong breaths: they shall know we\n",
      "have strong arms too.\n",
      "\n",
      "MENENIUS:\n",
      "Why, masters, my good friends, mine honest neighbours,\n",
      "Will you undo yourselves?\n",
      "\n",
      "First Citizen:\n",
      "We cannot, sir, we are undone already.\n",
      "\n",
      "MENENIUS:\n",
      "I tell you, friends, most charitable care\n",
      "Have the patricians of you. For your wants,\n",
      "Your suffering in this dearth, you may as well\n",
      "Strike at the heaven with your\n",
      "******************************\n",
      "--\n",
      ";\n",
      "--\n",
      " that\n",
      "--\n",
      ",\n",
      "--\n",
      " to\n",
      "--\n",
      "!\n",
      "--\n",
      " I\n",
      "--\n",
      ":\n",
      "--\n",
      "\n",
      "\n"
     ]
    }
   ],
   "source": [
    "print(enc.decode(x[0,:-1].tolist()))\n",
    "print(\"***\" * 10)\n",
    "for i in range(x.size(0)):\n",
    "    print(\"--\")\n",
    "    print(enc.decode([x[i,-1].tolist()]))"
   ]
  }
 ],
 "metadata": {
  "kernelspec": {
   "display_name": "Python 3",
   "language": "python",
   "name": "python3"
  },
  "language_info": {
   "codemirror_mode": {
    "name": "ipython",
    "version": 3
   },
   "file_extension": ".py",
   "mimetype": "text/x-python",
   "name": "python",
   "nbconvert_exporter": "python",
   "pygments_lexer": "ipython3",
   "version": "3.12.2"
  }
 },
 "nbformat": 4,
 "nbformat_minor": 2
}
